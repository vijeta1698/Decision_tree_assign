{
 "cells": [
  {
   "cell_type": "markdown",
   "metadata": {},
   "source": [
    "Predicting Survival in the Titanic Data Set\n",
    "\n",
    "We will be using a decision tree to make predictions about the Titanic data\n",
    "set from Kaggle. This data set provides information on the Titanic\n",
    "passengers and can be used to predict whether a passenger survived or\n",
    "not.\n"
   ]
  },
  {
   "cell_type": "markdown",
   "metadata": {},
   "source": [
    "<b>Loading Data and modules</b>"
   ]
  },
  {
   "cell_type": "code",
   "execution_count": 1,
   "metadata": {},
   "outputs": [],
   "source": [
    "import numpy as np\n",
    "import pandas as pd\n",
    "import seaborn as sb\n",
    "import matplotlib.pyplot as plt\n",
    "import sklearn\n",
    "from pandas import Series, DataFrame\n",
    "import matplotlib.pyplot as plt\n",
    "from sklearn.tree import DecisionTreeClassifier,export_graphviz\n",
    "from sklearn.model_selection import train_test_split\n",
    "from sklearn import metrics\n",
    "from sklearn.metrics import classification_report\n",
    "from sklearn.preprocessing import StandardScaler\n",
    "from sklearn.metrics import accuracy_score, confusion_matrix, roc_curve, roc_auc_score,classification_report\n",
    "from pandas_profiling import ProfileReport\n",
    "import seaborn as sns"
   ]
  },
  {
   "cell_type": "code",
   "execution_count": 2,
   "metadata": {},
   "outputs": [],
   "source": [
    "Url = \"https://raw.githubusercontent.com/BigDataGal/Python-for-Data-Science/master/titanic-train.csv\""
   ]
  },
  {
   "cell_type": "code",
   "execution_count": 3,
   "metadata": {},
   "outputs": [],
   "source": [
    "data = pd.read_csv(Url)"
   ]
  },
  {
   "cell_type": "code",
   "execution_count": 4,
   "metadata": {},
   "outputs": [
    {
     "data": {
      "text/html": [
       "<div>\n",
       "<style scoped>\n",
       "    .dataframe tbody tr th:only-of-type {\n",
       "        vertical-align: middle;\n",
       "    }\n",
       "\n",
       "    .dataframe tbody tr th {\n",
       "        vertical-align: top;\n",
       "    }\n",
       "\n",
       "    .dataframe thead th {\n",
       "        text-align: right;\n",
       "    }\n",
       "</style>\n",
       "<table border=\"1\" class=\"dataframe\">\n",
       "  <thead>\n",
       "    <tr style=\"text-align: right;\">\n",
       "      <th></th>\n",
       "      <th>PassengerId</th>\n",
       "      <th>Survived</th>\n",
       "      <th>Pclass</th>\n",
       "      <th>Name</th>\n",
       "      <th>Sex</th>\n",
       "      <th>Age</th>\n",
       "      <th>SibSp</th>\n",
       "      <th>Parch</th>\n",
       "      <th>Ticket</th>\n",
       "      <th>Fare</th>\n",
       "      <th>Cabin</th>\n",
       "      <th>Embarked</th>\n",
       "    </tr>\n",
       "  </thead>\n",
       "  <tbody>\n",
       "    <tr>\n",
       "      <th>0</th>\n",
       "      <td>1</td>\n",
       "      <td>0</td>\n",
       "      <td>3</td>\n",
       "      <td>Braund, Mr. Owen Harris</td>\n",
       "      <td>male</td>\n",
       "      <td>22.0</td>\n",
       "      <td>1</td>\n",
       "      <td>0</td>\n",
       "      <td>A/5 21171</td>\n",
       "      <td>7.2500</td>\n",
       "      <td>NaN</td>\n",
       "      <td>S</td>\n",
       "    </tr>\n",
       "    <tr>\n",
       "      <th>1</th>\n",
       "      <td>2</td>\n",
       "      <td>1</td>\n",
       "      <td>1</td>\n",
       "      <td>Cumings, Mrs. John Bradley (Florence Briggs Th...</td>\n",
       "      <td>female</td>\n",
       "      <td>38.0</td>\n",
       "      <td>1</td>\n",
       "      <td>0</td>\n",
       "      <td>PC 17599</td>\n",
       "      <td>71.2833</td>\n",
       "      <td>C85</td>\n",
       "      <td>C</td>\n",
       "    </tr>\n",
       "    <tr>\n",
       "      <th>2</th>\n",
       "      <td>3</td>\n",
       "      <td>1</td>\n",
       "      <td>3</td>\n",
       "      <td>Heikkinen, Miss. Laina</td>\n",
       "      <td>female</td>\n",
       "      <td>26.0</td>\n",
       "      <td>0</td>\n",
       "      <td>0</td>\n",
       "      <td>STON/O2. 3101282</td>\n",
       "      <td>7.9250</td>\n",
       "      <td>NaN</td>\n",
       "      <td>S</td>\n",
       "    </tr>\n",
       "    <tr>\n",
       "      <th>3</th>\n",
       "      <td>4</td>\n",
       "      <td>1</td>\n",
       "      <td>1</td>\n",
       "      <td>Futrelle, Mrs. Jacques Heath (Lily May Peel)</td>\n",
       "      <td>female</td>\n",
       "      <td>35.0</td>\n",
       "      <td>1</td>\n",
       "      <td>0</td>\n",
       "      <td>113803</td>\n",
       "      <td>53.1000</td>\n",
       "      <td>C123</td>\n",
       "      <td>S</td>\n",
       "    </tr>\n",
       "    <tr>\n",
       "      <th>4</th>\n",
       "      <td>5</td>\n",
       "      <td>0</td>\n",
       "      <td>3</td>\n",
       "      <td>Allen, Mr. William Henry</td>\n",
       "      <td>male</td>\n",
       "      <td>35.0</td>\n",
       "      <td>0</td>\n",
       "      <td>0</td>\n",
       "      <td>373450</td>\n",
       "      <td>8.0500</td>\n",
       "      <td>NaN</td>\n",
       "      <td>S</td>\n",
       "    </tr>\n",
       "    <tr>\n",
       "      <th>...</th>\n",
       "      <td>...</td>\n",
       "      <td>...</td>\n",
       "      <td>...</td>\n",
       "      <td>...</td>\n",
       "      <td>...</td>\n",
       "      <td>...</td>\n",
       "      <td>...</td>\n",
       "      <td>...</td>\n",
       "      <td>...</td>\n",
       "      <td>...</td>\n",
       "      <td>...</td>\n",
       "      <td>...</td>\n",
       "    </tr>\n",
       "    <tr>\n",
       "      <th>886</th>\n",
       "      <td>887</td>\n",
       "      <td>0</td>\n",
       "      <td>2</td>\n",
       "      <td>Montvila, Rev. Juozas</td>\n",
       "      <td>male</td>\n",
       "      <td>27.0</td>\n",
       "      <td>0</td>\n",
       "      <td>0</td>\n",
       "      <td>211536</td>\n",
       "      <td>13.0000</td>\n",
       "      <td>NaN</td>\n",
       "      <td>S</td>\n",
       "    </tr>\n",
       "    <tr>\n",
       "      <th>887</th>\n",
       "      <td>888</td>\n",
       "      <td>1</td>\n",
       "      <td>1</td>\n",
       "      <td>Graham, Miss. Margaret Edith</td>\n",
       "      <td>female</td>\n",
       "      <td>19.0</td>\n",
       "      <td>0</td>\n",
       "      <td>0</td>\n",
       "      <td>112053</td>\n",
       "      <td>30.0000</td>\n",
       "      <td>B42</td>\n",
       "      <td>S</td>\n",
       "    </tr>\n",
       "    <tr>\n",
       "      <th>888</th>\n",
       "      <td>889</td>\n",
       "      <td>0</td>\n",
       "      <td>3</td>\n",
       "      <td>Johnston, Miss. Catherine Helen \"Carrie\"</td>\n",
       "      <td>female</td>\n",
       "      <td>NaN</td>\n",
       "      <td>1</td>\n",
       "      <td>2</td>\n",
       "      <td>W./C. 6607</td>\n",
       "      <td>23.4500</td>\n",
       "      <td>NaN</td>\n",
       "      <td>S</td>\n",
       "    </tr>\n",
       "    <tr>\n",
       "      <th>889</th>\n",
       "      <td>890</td>\n",
       "      <td>1</td>\n",
       "      <td>1</td>\n",
       "      <td>Behr, Mr. Karl Howell</td>\n",
       "      <td>male</td>\n",
       "      <td>26.0</td>\n",
       "      <td>0</td>\n",
       "      <td>0</td>\n",
       "      <td>111369</td>\n",
       "      <td>30.0000</td>\n",
       "      <td>C148</td>\n",
       "      <td>C</td>\n",
       "    </tr>\n",
       "    <tr>\n",
       "      <th>890</th>\n",
       "      <td>891</td>\n",
       "      <td>0</td>\n",
       "      <td>3</td>\n",
       "      <td>Dooley, Mr. Patrick</td>\n",
       "      <td>male</td>\n",
       "      <td>32.0</td>\n",
       "      <td>0</td>\n",
       "      <td>0</td>\n",
       "      <td>370376</td>\n",
       "      <td>7.7500</td>\n",
       "      <td>NaN</td>\n",
       "      <td>Q</td>\n",
       "    </tr>\n",
       "  </tbody>\n",
       "</table>\n",
       "<p>891 rows × 12 columns</p>\n",
       "</div>"
      ],
      "text/plain": [
       "     PassengerId  Survived  Pclass  \\\n",
       "0              1         0       3   \n",
       "1              2         1       1   \n",
       "2              3         1       3   \n",
       "3              4         1       1   \n",
       "4              5         0       3   \n",
       "..           ...       ...     ...   \n",
       "886          887         0       2   \n",
       "887          888         1       1   \n",
       "888          889         0       3   \n",
       "889          890         1       1   \n",
       "890          891         0       3   \n",
       "\n",
       "                                                  Name     Sex   Age  SibSp  \\\n",
       "0                              Braund, Mr. Owen Harris    male  22.0      1   \n",
       "1    Cumings, Mrs. John Bradley (Florence Briggs Th...  female  38.0      1   \n",
       "2                               Heikkinen, Miss. Laina  female  26.0      0   \n",
       "3         Futrelle, Mrs. Jacques Heath (Lily May Peel)  female  35.0      1   \n",
       "4                             Allen, Mr. William Henry    male  35.0      0   \n",
       "..                                                 ...     ...   ...    ...   \n",
       "886                              Montvila, Rev. Juozas    male  27.0      0   \n",
       "887                       Graham, Miss. Margaret Edith  female  19.0      0   \n",
       "888           Johnston, Miss. Catherine Helen \"Carrie\"  female   NaN      1   \n",
       "889                              Behr, Mr. Karl Howell    male  26.0      0   \n",
       "890                                Dooley, Mr. Patrick    male  32.0      0   \n",
       "\n",
       "     Parch            Ticket     Fare Cabin Embarked  \n",
       "0        0         A/5 21171   7.2500   NaN        S  \n",
       "1        0          PC 17599  71.2833   C85        C  \n",
       "2        0  STON/O2. 3101282   7.9250   NaN        S  \n",
       "3        0            113803  53.1000  C123        S  \n",
       "4        0            373450   8.0500   NaN        S  \n",
       "..     ...               ...      ...   ...      ...  \n",
       "886      0            211536  13.0000   NaN        S  \n",
       "887      0            112053  30.0000   B42        S  \n",
       "888      2        W./C. 6607  23.4500   NaN        S  \n",
       "889      0            111369  30.0000  C148        C  \n",
       "890      0            370376   7.7500   NaN        Q  \n",
       "\n",
       "[891 rows x 12 columns]"
      ]
     },
     "execution_count": 4,
     "metadata": {},
     "output_type": "execute_result"
    }
   ],
   "source": [
    "data"
   ]
  },
  {
   "cell_type": "markdown",
   "metadata": {},
   "source": [
    "<b> Variable description </b>"
   ]
  },
  {
   "cell_type": "code",
   "execution_count": 5,
   "metadata": {},
   "outputs": [
    {
     "data": {
      "image/png": "[encoded data removed]",
      "text/plain": [
       "<IPython.core.display.Image object>"
      ]
     },
     "execution_count": 5,
     "metadata": {
      "image/png": {
       "height": 400,
       "width": 800
      }
     },
     "output_type": "execute_result"
    }
   ],
   "source": [
    "from IPython.display import Image\n",
    "Image(filename='column_description3.png',width=800, height=400)"
   ]
  },
  {
   "cell_type": "code",
   "execution_count": 6,
   "metadata": {},
   "outputs": [
    {
     "data": {
      "text/plain": [
       "PassengerId      int64\n",
       "Survived         int64\n",
       "Pclass           int64\n",
       "Name            object\n",
       "Sex             object\n",
       "Age            float64\n",
       "SibSp            int64\n",
       "Parch            int64\n",
       "Ticket          object\n",
       "Fare           float64\n",
       "Cabin           object\n",
       "Embarked        object\n",
       "dtype: object"
      ]
     },
     "execution_count": 6,
     "metadata": {},
     "output_type": "execute_result"
    }
   ],
   "source": [
    "data.dtypes"
   ]
  },
  {
   "cell_type": "code",
   "execution_count": 7,
   "metadata": {},
   "outputs": [],
   "source": [
    "report = ProfileReport(data)"
   ]
  },
  {
   "cell_type": "code",
   "execution_count": 8,
   "metadata": {},
   "outputs": [
    {
     "data": {
      "application/vnd.jupyter.widget-view+json": {
       "model_id": "54e1c0d26e4348ae803c85e9d7ae528d",
       "version_major": 2,
       "version_minor": 0
      },
      "text/plain": [
       "Summarize dataset:   0%|          | 0/25 [00:00<?, ?it/s]"
      ]
     },
     "metadata": {},
     "output_type": "display_data"
    },
    {
     "data": {
      "application/vnd.jupyter.widget-view+json": {
       "model_id": "160725cd9aed4303b8c75a3b62b0d85a",
       "version_major": 2,
       "version_minor": 0
      },
      "text/plain": [
       "Generate report structure:   0%|          | 0/1 [00:00<?, ?it/s]"
      ]
     },
     "metadata": {},
     "output_type": "display_data"
    },
    {
     "data": {
      "application/vnd.jupyter.widget-view+json": {
       "model_id": "",
       "version_major": 2,
       "version_minor": 0
      },
      "text/plain": [
       "Render widgets:   0%|          | 0/1 [00:00<?, ?it/s]"
      ]
     },
     "metadata": {},
     "output_type": "display_data"
    },
    {
     "data": {
      "application/vnd.jupyter.widget-view+json": {
       "model_id": "f4e1f9d20c454fd9b435c4e353c8f7e7",
       "version_major": 2,
       "version_minor": 0
      },
      "text/plain": [
       "VBox(children=(Tab(children=(Tab(children=(GridBox(children=(VBox(children=(GridspecLayout(children=(HTML(valu…"
      ]
     },
     "metadata": {},
     "output_type": "display_data"
    }
   ],
   "source": [
    "report.to_widgets()"
   ]
  },
  {
   "cell_type": "markdown",
   "metadata": {},
   "source": [
    "<b> Checking Null values </b>"
   ]
  },
  {
   "cell_type": "code",
   "execution_count": 7,
   "metadata": {},
   "outputs": [
    {
     "data": {
      "text/plain": [
       "PassengerId      0\n",
       "Survived         0\n",
       "Pclass           0\n",
       "Name             0\n",
       "Sex              0\n",
       "Age            177\n",
       "SibSp            0\n",
       "Parch            0\n",
       "Ticket           0\n",
       "Fare             0\n",
       "Cabin          687\n",
       "Embarked         2\n",
       "dtype: int64"
      ]
     },
     "execution_count": 7,
     "metadata": {},
     "output_type": "execute_result"
    }
   ],
   "source": [
    "data.isnull().sum()"
   ]
  },
  {
   "cell_type": "code",
   "execution_count": 8,
   "metadata": {},
   "outputs": [],
   "source": [
    "#removing nulls from age column"
   ]
  },
  {
   "cell_type": "code",
   "execution_count": 9,
   "metadata": {},
   "outputs": [],
   "source": [
    "for i in data:\n",
    "    age_avg = data['Age'].mean()\n",
    "    age_std = data['Age'].std()\n",
    "    age_null_count = data['Age'].isna().sum()\n",
    "    age_null_random_list = np.random.randint(age_avg-age_std,age_avg+age_std,size = age_null_count)\n",
    "    data.loc[data['Age'].isna(),'Age'] = age_null_random_list\n",
    "    data['Age'] = data['Age'].astype(int)"
   ]
  },
  {
   "cell_type": "code",
   "execution_count": 10,
   "metadata": {},
   "outputs": [
    {
     "data": {
      "text/plain": [
       "0"
      ]
     },
     "execution_count": 10,
     "metadata": {},
     "output_type": "execute_result"
    }
   ],
   "source": [
    "data['Age'].isna().sum()"
   ]
  },
  {
   "cell_type": "code",
   "execution_count": 11,
   "metadata": {},
   "outputs": [],
   "source": [
    "data['Sex'] = data['Sex'].map( {'female': 0, 'male': 1} ).astype(int)"
   ]
  },
  {
   "cell_type": "code",
   "execution_count": 12,
   "metadata": {},
   "outputs": [],
   "source": [
    "data['Family_size'] = data['SibSp']+data['Parch']+1"
   ]
  },
  {
   "cell_type": "code",
   "execution_count": 13,
   "metadata": {},
   "outputs": [
    {
     "data": {
      "text/html": [
       "<div>\n",
       "<style scoped>\n",
       "    .dataframe tbody tr th:only-of-type {\n",
       "        vertical-align: middle;\n",
       "    }\n",
       "\n",
       "    .dataframe tbody tr th {\n",
       "        vertical-align: top;\n",
       "    }\n",
       "\n",
       "    .dataframe thead th {\n",
       "        text-align: right;\n",
       "    }\n",
       "</style>\n",
       "<table border=\"1\" class=\"dataframe\">\n",
       "  <thead>\n",
       "    <tr style=\"text-align: right;\">\n",
       "      <th></th>\n",
       "      <th>PassengerId</th>\n",
       "      <th>Survived</th>\n",
       "      <th>Pclass</th>\n",
       "      <th>Sex</th>\n",
       "      <th>Age</th>\n",
       "      <th>SibSp</th>\n",
       "      <th>Parch</th>\n",
       "      <th>Fare</th>\n",
       "      <th>Family_size</th>\n",
       "    </tr>\n",
       "  </thead>\n",
       "  <tbody>\n",
       "    <tr>\n",
       "      <th>count</th>\n",
       "      <td>891.000000</td>\n",
       "      <td>891.000000</td>\n",
       "      <td>891.000000</td>\n",
       "      <td>891.000000</td>\n",
       "      <td>891.000000</td>\n",
       "      <td>891.000000</td>\n",
       "      <td>891.000000</td>\n",
       "      <td>891.000000</td>\n",
       "      <td>891.000000</td>\n",
       "    </tr>\n",
       "    <tr>\n",
       "      <th>mean</th>\n",
       "      <td>446.000000</td>\n",
       "      <td>0.383838</td>\n",
       "      <td>2.308642</td>\n",
       "      <td>0.647587</td>\n",
       "      <td>29.707071</td>\n",
       "      <td>0.523008</td>\n",
       "      <td>0.381594</td>\n",
       "      <td>32.204208</td>\n",
       "      <td>1.904602</td>\n",
       "    </tr>\n",
       "    <tr>\n",
       "      <th>std</th>\n",
       "      <td>257.353842</td>\n",
       "      <td>0.486592</td>\n",
       "      <td>0.836071</td>\n",
       "      <td>0.477990</td>\n",
       "      <td>13.532339</td>\n",
       "      <td>1.102743</td>\n",
       "      <td>0.806057</td>\n",
       "      <td>49.693429</td>\n",
       "      <td>1.613459</td>\n",
       "    </tr>\n",
       "    <tr>\n",
       "      <th>min</th>\n",
       "      <td>1.000000</td>\n",
       "      <td>0.000000</td>\n",
       "      <td>1.000000</td>\n",
       "      <td>0.000000</td>\n",
       "      <td>0.000000</td>\n",
       "      <td>0.000000</td>\n",
       "      <td>0.000000</td>\n",
       "      <td>0.000000</td>\n",
       "      <td>1.000000</td>\n",
       "    </tr>\n",
       "    <tr>\n",
       "      <th>25%</th>\n",
       "      <td>223.500000</td>\n",
       "      <td>0.000000</td>\n",
       "      <td>2.000000</td>\n",
       "      <td>0.000000</td>\n",
       "      <td>21.000000</td>\n",
       "      <td>0.000000</td>\n",
       "      <td>0.000000</td>\n",
       "      <td>7.910400</td>\n",
       "      <td>1.000000</td>\n",
       "    </tr>\n",
       "    <tr>\n",
       "      <th>50%</th>\n",
       "      <td>446.000000</td>\n",
       "      <td>0.000000</td>\n",
       "      <td>3.000000</td>\n",
       "      <td>1.000000</td>\n",
       "      <td>29.000000</td>\n",
       "      <td>0.000000</td>\n",
       "      <td>0.000000</td>\n",
       "      <td>14.454200</td>\n",
       "      <td>1.000000</td>\n",
       "    </tr>\n",
       "    <tr>\n",
       "      <th>75%</th>\n",
       "      <td>668.500000</td>\n",
       "      <td>1.000000</td>\n",
       "      <td>3.000000</td>\n",
       "      <td>1.000000</td>\n",
       "      <td>38.000000</td>\n",
       "      <td>1.000000</td>\n",
       "      <td>0.000000</td>\n",
       "      <td>31.000000</td>\n",
       "      <td>2.000000</td>\n",
       "    </tr>\n",
       "    <tr>\n",
       "      <th>max</th>\n",
       "      <td>891.000000</td>\n",
       "      <td>1.000000</td>\n",
       "      <td>3.000000</td>\n",
       "      <td>1.000000</td>\n",
       "      <td>80.000000</td>\n",
       "      <td>8.000000</td>\n",
       "      <td>6.000000</td>\n",
       "      <td>512.329200</td>\n",
       "      <td>11.000000</td>\n",
       "    </tr>\n",
       "  </tbody>\n",
       "</table>\n",
       "</div>"
      ],
      "text/plain": [
       "       PassengerId    Survived      Pclass         Sex         Age  \\\n",
       "count   891.000000  891.000000  891.000000  891.000000  891.000000   \n",
       "mean    446.000000    0.383838    2.308642    0.647587   29.707071   \n",
       "std     257.353842    0.486592    0.836071    0.477990   13.532339   \n",
       "min       1.000000    0.000000    1.000000    0.000000    0.000000   \n",
       "25%     223.500000    0.000000    2.000000    0.000000   21.000000   \n",
       "50%     446.000000    0.000000    3.000000    1.000000   29.000000   \n",
       "75%     668.500000    1.000000    3.000000    1.000000   38.000000   \n",
       "max     891.000000    1.000000    3.000000    1.000000   80.000000   \n",
       "\n",
       "            SibSp       Parch        Fare  Family_size  \n",
       "count  891.000000  891.000000  891.000000   891.000000  \n",
       "mean     0.523008    0.381594   32.204208     1.904602  \n",
       "std      1.102743    0.806057   49.693429     1.613459  \n",
       "min      0.000000    0.000000    0.000000     1.000000  \n",
       "25%      0.000000    0.000000    7.910400     1.000000  \n",
       "50%      0.000000    0.000000   14.454200     1.000000  \n",
       "75%      1.000000    0.000000   31.000000     2.000000  \n",
       "max      8.000000    6.000000  512.329200    11.000000  "
      ]
     },
     "execution_count": 13,
     "metadata": {},
     "output_type": "execute_result"
    }
   ],
   "source": [
    "data.describe()"
   ]
  },
  {
   "cell_type": "code",
   "execution_count": 14,
   "metadata": {
    "scrolled": true
   },
   "outputs": [
    {
     "name": "stderr",
     "output_type": "stream",
     "text": [
      "C:\\Users\\Panda\\Anaconda3\\lib\\site-packages\\seaborn\\_decorators.py:43: FutureWarning: Pass the following variable as a keyword arg: x. From version 0.12, the only valid positional argument will be `data`, and passing other arguments without an explicit keyword will result in an error or misinterpretation.\n",
      "  FutureWarning\n"
     ]
    },
    {
     "data": {
      "text/plain": [
       "<AxesSubplot:xlabel='Sex', ylabel='count'>"
      ]
     },
     "execution_count": 14,
     "metadata": {},
     "output_type": "execute_result"
    },
    {
     "data": {
      "image/png": "[encoded data removed]",
      "text/plain": [
       "<Figure size 576x432 with 1 Axes>"
      ]
     },
     "metadata": {
      "needs_background": "light"
     },
     "output_type": "display_data"
    }
   ],
   "source": [
    "plt.figure(figsize=(8,6))\n",
    "sns.countplot(data['Sex'],hue = 'Survived',data=data)"
   ]
  },
  {
   "cell_type": "markdown",
   "metadata": {},
   "source": [
    "Female more likely to survive than male"
   ]
  },
  {
   "cell_type": "code",
   "execution_count": 15,
   "metadata": {},
   "outputs": [
    {
     "data": {
      "text/html": [
       "<div>\n",
       "<style scoped>\n",
       "    .dataframe tbody tr th:only-of-type {\n",
       "        vertical-align: middle;\n",
       "    }\n",
       "\n",
       "    .dataframe tbody tr th {\n",
       "        vertical-align: top;\n",
       "    }\n",
       "\n",
       "    .dataframe thead th {\n",
       "        text-align: right;\n",
       "    }\n",
       "</style>\n",
       "<table border=\"1\" class=\"dataframe\">\n",
       "  <thead>\n",
       "    <tr style=\"text-align: right;\">\n",
       "      <th></th>\n",
       "      <th>mean</th>\n",
       "      <th>count</th>\n",
       "      <th>sum</th>\n",
       "    </tr>\n",
       "    <tr>\n",
       "      <th>Sex</th>\n",
       "      <th></th>\n",
       "      <th></th>\n",
       "      <th></th>\n",
       "    </tr>\n",
       "  </thead>\n",
       "  <tbody>\n",
       "    <tr>\n",
       "      <th>0</th>\n",
       "      <td>0.742038</td>\n",
       "      <td>314</td>\n",
       "      <td>233</td>\n",
       "    </tr>\n",
       "    <tr>\n",
       "      <th>1</th>\n",
       "      <td>0.188908</td>\n",
       "      <td>577</td>\n",
       "      <td>109</td>\n",
       "    </tr>\n",
       "  </tbody>\n",
       "</table>\n",
       "</div>"
      ],
      "text/plain": [
       "         mean  count  sum\n",
       "Sex                      \n",
       "0    0.742038    314  233\n",
       "1    0.188908    577  109"
      ]
     },
     "execution_count": 15,
     "metadata": {},
     "output_type": "execute_result"
    }
   ],
   "source": [
    "data1 = data.groupby(['Sex']).agg(['mean','count','sum'])\n",
    "data1['Survived']"
   ]
  },
  {
   "cell_type": "code",
   "execution_count": 16,
   "metadata": {},
   "outputs": [
    {
     "name": "stdout",
     "output_type": "stream",
     "text": [
      "% of woman survived 0.7420382165605095\n",
      "% of man survived 0.18890814558058924\n"
     ]
    }
   ],
   "source": [
    "print('% of woman survived',data[data['Sex']==0].Survived.sum()/data[data['Sex']==0].Survived.count())\n",
    "print('% of man survived',data[data['Sex']==1].Survived.sum()/data[data['Sex']==1].Survived.count())"
   ]
  },
  {
   "cell_type": "code",
   "execution_count": null,
   "metadata": {},
   "outputs": [],
   "source": []
  },
  {
   "cell_type": "code",
   "execution_count": 17,
   "metadata": {},
   "outputs": [
    {
     "data": {
      "text/plain": [
       "PassengerId    314\n",
       "Survived       314\n",
       "Pclass         314\n",
       "Name           314\n",
       "Sex            314\n",
       "Age            314\n",
       "SibSp          314\n",
       "Parch          314\n",
       "Ticket         314\n",
       "Fare           314\n",
       "Cabin           97\n",
       "Embarked       312\n",
       "Family_size    314\n",
       "dtype: int64"
      ]
     },
     "execution_count": 17,
     "metadata": {},
     "output_type": "execute_result"
    }
   ],
   "source": [
    "data[data['Sex']==0].count()"
   ]
  },
  {
   "cell_type": "code",
   "execution_count": 18,
   "metadata": {},
   "outputs": [
    {
     "name": "stderr",
     "output_type": "stream",
     "text": [
      "C:\\Users\\Panda\\Anaconda3\\lib\\site-packages\\seaborn\\_decorators.py:43: FutureWarning: Pass the following variable as a keyword arg: x. From version 0.12, the only valid positional argument will be `data`, and passing other arguments without an explicit keyword will result in an error or misinterpretation.\n",
      "  FutureWarning\n"
     ]
    },
    {
     "data": {
      "text/plain": [
       "<AxesSubplot:xlabel='Survived', ylabel='count'>"
      ]
     },
     "execution_count": 18,
     "metadata": {},
     "output_type": "execute_result"
    },
    {
     "data": {
      "image/png": "[encoded data removed]",
      "text/plain": [
       "<Figure size 576x432 with 1 Axes>"
      ]
     },
     "metadata": {
      "needs_background": "light"
     },
     "output_type": "display_data"
    }
   ],
   "source": [
    "plt.figure(figsize=(8,6))\n",
    "sns.countplot(data['Survived'])"
   ]
  },
  {
   "cell_type": "code",
   "execution_count": null,
   "metadata": {},
   "outputs": [],
   "source": []
  },
  {
   "cell_type": "code",
   "execution_count": 19,
   "metadata": {},
   "outputs": [
    {
     "name": "stdout",
     "output_type": "stream",
     "text": [
      "0.3838383838383838\n"
     ]
    }
   ],
   "source": [
    "print(data.Survived.sum()/data.Survived.count())"
   ]
  },
  {
   "cell_type": "markdown",
   "metadata": {},
   "source": [
    "more people died than survived (38% survived)"
   ]
  },
  {
   "cell_type": "code",
   "execution_count": 20,
   "metadata": {},
   "outputs": [
    {
     "name": "stderr",
     "output_type": "stream",
     "text": [
      "C:\\Users\\Panda\\Anaconda3\\lib\\site-packages\\seaborn\\_decorators.py:43: FutureWarning: Pass the following variable as a keyword arg: x. From version 0.12, the only valid positional argument will be `data`, and passing other arguments without an explicit keyword will result in an error or misinterpretation.\n",
      "  FutureWarning\n"
     ]
    },
    {
     "data": {
      "text/plain": [
       "<AxesSubplot:xlabel='Family_size', ylabel='count'>"
      ]
     },
     "execution_count": 20,
     "metadata": {},
     "output_type": "execute_result"
    },
    {
     "data": {
      "image/png": "[encoded data removed]",
      "text/plain": [
       "<Figure size 576x432 with 1 Axes>"
      ]
     },
     "metadata": {
      "needs_background": "light"
     },
     "output_type": "display_data"
    }
   ],
   "source": [
    "plt.figure(figsize=(8,6))\n",
    "sns.countplot(data['Family_size'],hue = 'Survived',data=data)"
   ]
  },
  {
   "cell_type": "code",
   "execution_count": 21,
   "metadata": {},
   "outputs": [
    {
     "data": {
      "text/html": [
       "<div>\n",
       "<style scoped>\n",
       "    .dataframe tbody tr th:only-of-type {\n",
       "        vertical-align: middle;\n",
       "    }\n",
       "\n",
       "    .dataframe tbody tr th {\n",
       "        vertical-align: top;\n",
       "    }\n",
       "\n",
       "    .dataframe thead th {\n",
       "        text-align: right;\n",
       "    }\n",
       "</style>\n",
       "<table border=\"1\" class=\"dataframe\">\n",
       "  <thead>\n",
       "    <tr style=\"text-align: right;\">\n",
       "      <th></th>\n",
       "      <th>mean</th>\n",
       "      <th>count</th>\n",
       "      <th>sum</th>\n",
       "    </tr>\n",
       "    <tr>\n",
       "      <th>Family_size</th>\n",
       "      <th></th>\n",
       "      <th></th>\n",
       "      <th></th>\n",
       "    </tr>\n",
       "  </thead>\n",
       "  <tbody>\n",
       "    <tr>\n",
       "      <th>1</th>\n",
       "      <td>0.303538</td>\n",
       "      <td>537</td>\n",
       "      <td>163</td>\n",
       "    </tr>\n",
       "    <tr>\n",
       "      <th>2</th>\n",
       "      <td>0.552795</td>\n",
       "      <td>161</td>\n",
       "      <td>89</td>\n",
       "    </tr>\n",
       "    <tr>\n",
       "      <th>3</th>\n",
       "      <td>0.578431</td>\n",
       "      <td>102</td>\n",
       "      <td>59</td>\n",
       "    </tr>\n",
       "    <tr>\n",
       "      <th>4</th>\n",
       "      <td>0.724138</td>\n",
       "      <td>29</td>\n",
       "      <td>21</td>\n",
       "    </tr>\n",
       "    <tr>\n",
       "      <th>5</th>\n",
       "      <td>0.200000</td>\n",
       "      <td>15</td>\n",
       "      <td>3</td>\n",
       "    </tr>\n",
       "    <tr>\n",
       "      <th>6</th>\n",
       "      <td>0.136364</td>\n",
       "      <td>22</td>\n",
       "      <td>3</td>\n",
       "    </tr>\n",
       "    <tr>\n",
       "      <th>7</th>\n",
       "      <td>0.333333</td>\n",
       "      <td>12</td>\n",
       "      <td>4</td>\n",
       "    </tr>\n",
       "    <tr>\n",
       "      <th>8</th>\n",
       "      <td>0.000000</td>\n",
       "      <td>6</td>\n",
       "      <td>0</td>\n",
       "    </tr>\n",
       "    <tr>\n",
       "      <th>11</th>\n",
       "      <td>0.000000</td>\n",
       "      <td>7</td>\n",
       "      <td>0</td>\n",
       "    </tr>\n",
       "  </tbody>\n",
       "</table>\n",
       "</div>"
      ],
      "text/plain": [
       "                 mean  count  sum\n",
       "Family_size                      \n",
       "1            0.303538    537  163\n",
       "2            0.552795    161   89\n",
       "3            0.578431    102   59\n",
       "4            0.724138     29   21\n",
       "5            0.200000     15    3\n",
       "6            0.136364     22    3\n",
       "7            0.333333     12    4\n",
       "8            0.000000      6    0\n",
       "11           0.000000      7    0"
      ]
     },
     "execution_count": 21,
     "metadata": {},
     "output_type": "execute_result"
    }
   ],
   "source": [
    "data1 = data.groupby(['Family_size']).agg(['mean','count','sum'])\n",
    "data1['Survived']"
   ]
  },
  {
   "cell_type": "markdown",
   "metadata": {},
   "source": [
    "Less the family size more the survival increases"
   ]
  },
  {
   "cell_type": "code",
   "execution_count": 24,
   "metadata": {},
   "outputs": [
    {
     "name": "stderr",
     "output_type": "stream",
     "text": [
      "C:\\Users\\Panda\\Anaconda3\\lib\\site-packages\\seaborn\\_decorators.py:43: FutureWarning: Pass the following variable as a keyword arg: x. From version 0.12, the only valid positional argument will be `data`, and passing other arguments without an explicit keyword will result in an error or misinterpretation.\n",
      "  FutureWarning\n"
     ]
    },
    {
     "data": {
      "text/plain": [
       "<AxesSubplot:xlabel='Pclass', ylabel='count'>"
      ]
     },
     "execution_count": 24,
     "metadata": {},
     "output_type": "execute_result"
    },
    {
     "data": {
      "image/png": "[encoded data removed]",
      "text/plain": [
       "<Figure size 576x432 with 1 Axes>"
      ]
     },
     "metadata": {
      "needs_background": "light"
     },
     "output_type": "display_data"
    }
   ],
   "source": [
    "plt.figure(figsize=(8,6))\n",
    "sns.countplot(data['Pclass'],hue = 'Survived',data=data)"
   ]
  },
  {
   "cell_type": "code",
   "execution_count": 22,
   "metadata": {},
   "outputs": [
    {
     "data": {
      "text/html": [
       "<div>\n",
       "<style scoped>\n",
       "    .dataframe tbody tr th:only-of-type {\n",
       "        vertical-align: middle;\n",
       "    }\n",
       "\n",
       "    .dataframe tbody tr th {\n",
       "        vertical-align: top;\n",
       "    }\n",
       "\n",
       "    .dataframe thead th {\n",
       "        text-align: right;\n",
       "    }\n",
       "</style>\n",
       "<table border=\"1\" class=\"dataframe\">\n",
       "  <thead>\n",
       "    <tr style=\"text-align: right;\">\n",
       "      <th></th>\n",
       "      <th>mean</th>\n",
       "      <th>count</th>\n",
       "      <th>sum</th>\n",
       "    </tr>\n",
       "    <tr>\n",
       "      <th>Pclass</th>\n",
       "      <th></th>\n",
       "      <th></th>\n",
       "      <th></th>\n",
       "    </tr>\n",
       "  </thead>\n",
       "  <tbody>\n",
       "    <tr>\n",
       "      <th>1</th>\n",
       "      <td>0.629630</td>\n",
       "      <td>216</td>\n",
       "      <td>136</td>\n",
       "    </tr>\n",
       "    <tr>\n",
       "      <th>2</th>\n",
       "      <td>0.472826</td>\n",
       "      <td>184</td>\n",
       "      <td>87</td>\n",
       "    </tr>\n",
       "    <tr>\n",
       "      <th>3</th>\n",
       "      <td>0.242363</td>\n",
       "      <td>491</td>\n",
       "      <td>119</td>\n",
       "    </tr>\n",
       "  </tbody>\n",
       "</table>\n",
       "</div>"
      ],
      "text/plain": [
       "            mean  count  sum\n",
       "Pclass                      \n",
       "1       0.629630    216  136\n",
       "2       0.472826    184   87\n",
       "3       0.242363    491  119"
      ]
     },
     "execution_count": 22,
     "metadata": {},
     "output_type": "execute_result"
    }
   ],
   "source": [
    "data1 = data.groupby(['Pclass']).agg(['mean','count','sum'])\n",
    "data1['Survived']"
   ]
  },
  {
   "cell_type": "markdown",
   "metadata": {},
   "source": [
    "1st class people has survived more than 2nd and 3rd"
   ]
  },
  {
   "cell_type": "code",
   "execution_count": 23,
   "metadata": {},
   "outputs": [
    {
     "data": {
      "text/html": [
       "<style type=\"text/css\">\n",
       "#T_226dc_row0_col0, #T_226dc_row1_col1, #T_226dc_row1_col2 {\n",
       "  background-color: #ffff00;\n",
       "  color: #000000;\n",
       "}\n",
       "#T_226dc_row0_col1 {\n",
       "  background-color: #ffce00;\n",
       "  color: #000000;\n",
       "}\n",
       "#T_226dc_row0_col2 {\n",
       "  background-color: #fff400;\n",
       "  color: #000000;\n",
       "}\n",
       "#T_226dc_row1_col0 {\n",
       "  background-color: #fff600;\n",
       "  color: #000000;\n",
       "}\n",
       "#T_226dc_row2_col0 {\n",
       "  background-color: #ff6000;\n",
       "  color: #f1f1f1;\n",
       "}\n",
       "#T_226dc_row2_col1 {\n",
       "  background-color: #ffdf00;\n",
       "  color: #000000;\n",
       "}\n",
       "#T_226dc_row2_col2 {\n",
       "  background-color: #ff9000;\n",
       "  color: #000000;\n",
       "}\n",
       "#T_226dc_row3_col0, #T_226dc_row3_col1, #T_226dc_row3_col2 {\n",
       "  background-color: #ff0000;\n",
       "  color: #f1f1f1;\n",
       "}\n",
       "</style>\n",
       "<table id=\"T_226dc_\">\n",
       "  <thead>\n",
       "    <tr>\n",
       "      <th class=\"index_name level0\" >Survived</th>\n",
       "      <th class=\"col_heading level0 col0\" >0</th>\n",
       "      <th class=\"col_heading level0 col1\" >1</th>\n",
       "      <th class=\"col_heading level0 col2\" >All</th>\n",
       "    </tr>\n",
       "    <tr>\n",
       "      <th class=\"index_name level0\" >Pclass</th>\n",
       "      <th class=\"blank col0\" >&nbsp;</th>\n",
       "      <th class=\"blank col1\" >&nbsp;</th>\n",
       "      <th class=\"blank col2\" >&nbsp;</th>\n",
       "    </tr>\n",
       "  </thead>\n",
       "  <tbody>\n",
       "    <tr>\n",
       "      <th id=\"T_226dc_level0_row0\" class=\"row_heading level0 row0\" >1</th>\n",
       "      <td id=\"T_226dc_row0_col0\" class=\"data row0 col0\" >80</td>\n",
       "      <td id=\"T_226dc_row0_col1\" class=\"data row0 col1\" >136</td>\n",
       "      <td id=\"T_226dc_row0_col2\" class=\"data row0 col2\" >216</td>\n",
       "    </tr>\n",
       "    <tr>\n",
       "      <th id=\"T_226dc_level0_row1\" class=\"row_heading level0 row1\" >2</th>\n",
       "      <td id=\"T_226dc_row1_col0\" class=\"data row1 col0\" >97</td>\n",
       "      <td id=\"T_226dc_row1_col1\" class=\"data row1 col1\" >87</td>\n",
       "      <td id=\"T_226dc_row1_col2\" class=\"data row1 col2\" >184</td>\n",
       "    </tr>\n",
       "    <tr>\n",
       "      <th id=\"T_226dc_level0_row2\" class=\"row_heading level0 row2\" >3</th>\n",
       "      <td id=\"T_226dc_row2_col0\" class=\"data row2 col0\" >372</td>\n",
       "      <td id=\"T_226dc_row2_col1\" class=\"data row2 col1\" >119</td>\n",
       "      <td id=\"T_226dc_row2_col2\" class=\"data row2 col2\" >491</td>\n",
       "    </tr>\n",
       "    <tr>\n",
       "      <th id=\"T_226dc_level0_row3\" class=\"row_heading level0 row3\" >All</th>\n",
       "      <td id=\"T_226dc_row3_col0\" class=\"data row3 col0\" >549</td>\n",
       "      <td id=\"T_226dc_row3_col1\" class=\"data row3 col1\" >342</td>\n",
       "      <td id=\"T_226dc_row3_col2\" class=\"data row3 col2\" >891</td>\n",
       "    </tr>\n",
       "  </tbody>\n",
       "</table>\n"
      ],
      "text/plain": [
       "<pandas.io.formats.style.Styler at 0x2b78d9b1708>"
      ]
     },
     "execution_count": 23,
     "metadata": {},
     "output_type": "execute_result"
    }
   ],
   "source": [
    "pd.crosstab(data.Pclass,data.Survived,margins = True).style.background_gradient(cmap='autumn_r')"
   ]
  },
  {
   "cell_type": "code",
   "execution_count": 24,
   "metadata": {},
   "outputs": [
    {
     "name": "stdout",
     "output_type": "stream",
     "text": [
      "% of survival in\n",
      "Pclass 1 :  0.6296296296296297\n",
      "Pclass 2 :  0.47282608695652173\n",
      "Pclass 3 :  0.24236252545824846\n"
     ]
    }
   ],
   "source": [
    "print('% of survival in')\n",
    "print('Pclass 1 : ',data[data['Pclass']==1].Survived.sum()/data[data['Pclass']==1].Survived.count())\n",
    "print('Pclass 2 : ',data[data['Pclass']==2].Survived.sum()/data[data['Pclass']==2].Survived.count())\n",
    "print('Pclass 3 : ',data[data['Pclass']==3].Survived.sum()/data[data['Pclass']==3].Survived.count())"
   ]
  },
  {
   "cell_type": "code",
   "execution_count": 25,
   "metadata": {},
   "outputs": [
    {
     "data": {
      "text/html": [
       "<style type=\"text/css\">\n",
       "#T_6e7c2_row0_col0, #T_6e7c2_row0_col1, #T_6e7c2_row0_col3, #T_6e7c2_row3_col2 {\n",
       "  background-color: #ffff00;\n",
       "  color: #000000;\n",
       "}\n",
       "#T_6e7c2_row0_col2, #T_6e7c2_row1_col2 {\n",
       "  background-color: #fff100;\n",
       "  color: #000000;\n",
       "}\n",
       "#T_6e7c2_row1_col0 {\n",
       "  background-color: #ff9600;\n",
       "  color: #000000;\n",
       "}\n",
       "#T_6e7c2_row1_col1 {\n",
       "  background-color: #ffa300;\n",
       "  color: #000000;\n",
       "}\n",
       "#T_6e7c2_row1_col3 {\n",
       "  background-color: #ffcf00;\n",
       "  color: #000000;\n",
       "}\n",
       "#T_6e7c2_row2_col0 {\n",
       "  background-color: #ffa700;\n",
       "  color: #000000;\n",
       "}\n",
       "#T_6e7c2_row2_col1, #T_6e7c2_row2_col3 {\n",
       "  background-color: #ff8500;\n",
       "  color: #f1f1f1;\n",
       "}\n",
       "#T_6e7c2_row2_col2 {\n",
       "  background-color: #ff6e00;\n",
       "  color: #f1f1f1;\n",
       "}\n",
       "#T_6e7c2_row3_col0 {\n",
       "  background-color: #ffcd00;\n",
       "  color: #000000;\n",
       "}\n",
       "#T_6e7c2_row3_col1 {\n",
       "  background-color: #fff000;\n",
       "  color: #000000;\n",
       "}\n",
       "#T_6e7c2_row3_col3 {\n",
       "  background-color: #fff700;\n",
       "  color: #000000;\n",
       "}\n",
       "#T_6e7c2_row4_col0, #T_6e7c2_row4_col1, #T_6e7c2_row4_col2, #T_6e7c2_row4_col3 {\n",
       "  background-color: #ff0000;\n",
       "  color: #f1f1f1;\n",
       "}\n",
       "</style>\n",
       "<table id=\"T_6e7c2_\">\n",
       "  <thead>\n",
       "    <tr>\n",
       "      <th class=\"blank\" >&nbsp;</th>\n",
       "      <th class=\"index_name level0\" >Pclass</th>\n",
       "      <th class=\"col_heading level0 col0\" >1</th>\n",
       "      <th class=\"col_heading level0 col1\" >2</th>\n",
       "      <th class=\"col_heading level0 col2\" >3</th>\n",
       "      <th class=\"col_heading level0 col3\" >All</th>\n",
       "    </tr>\n",
       "    <tr>\n",
       "      <th class=\"index_name level0\" >Sex</th>\n",
       "      <th class=\"index_name level1\" >Survived</th>\n",
       "      <th class=\"blank col0\" >&nbsp;</th>\n",
       "      <th class=\"blank col1\" >&nbsp;</th>\n",
       "      <th class=\"blank col2\" >&nbsp;</th>\n",
       "      <th class=\"blank col3\" >&nbsp;</th>\n",
       "    </tr>\n",
       "  </thead>\n",
       "  <tbody>\n",
       "    <tr>\n",
       "      <th id=\"T_6e7c2_level0_row0\" class=\"row_heading level0 row0\" rowspan=\"2\">0</th>\n",
       "      <th id=\"T_6e7c2_level1_row0\" class=\"row_heading level1 row0\" >0</th>\n",
       "      <td id=\"T_6e7c2_row0_col0\" class=\"data row0 col0\" >3</td>\n",
       "      <td id=\"T_6e7c2_row0_col1\" class=\"data row0 col1\" >6</td>\n",
       "      <td id=\"T_6e7c2_row0_col2\" class=\"data row0 col2\" >72</td>\n",
       "      <td id=\"T_6e7c2_row0_col3\" class=\"data row0 col3\" >81</td>\n",
       "    </tr>\n",
       "    <tr>\n",
       "      <th id=\"T_6e7c2_level1_row1\" class=\"row_heading level1 row1\" >1</th>\n",
       "      <td id=\"T_6e7c2_row1_col0\" class=\"data row1 col0\" >91</td>\n",
       "      <td id=\"T_6e7c2_row1_col1\" class=\"data row1 col1\" >70</td>\n",
       "      <td id=\"T_6e7c2_row1_col2\" class=\"data row1 col2\" >72</td>\n",
       "      <td id=\"T_6e7c2_row1_col3\" class=\"data row1 col3\" >233</td>\n",
       "    </tr>\n",
       "    <tr>\n",
       "      <th id=\"T_6e7c2_level0_row2\" class=\"row_heading level0 row2\" rowspan=\"2\">1</th>\n",
       "      <th id=\"T_6e7c2_level1_row2\" class=\"row_heading level1 row2\" >0</th>\n",
       "      <td id=\"T_6e7c2_row2_col0\" class=\"data row2 col0\" >77</td>\n",
       "      <td id=\"T_6e7c2_row2_col1\" class=\"data row2 col1\" >91</td>\n",
       "      <td id=\"T_6e7c2_row2_col2\" class=\"data row2 col2\" >300</td>\n",
       "      <td id=\"T_6e7c2_row2_col3\" class=\"data row2 col3\" >468</td>\n",
       "    </tr>\n",
       "    <tr>\n",
       "      <th id=\"T_6e7c2_level1_row3\" class=\"row_heading level1 row3\" >1</th>\n",
       "      <td id=\"T_6e7c2_row3_col0\" class=\"data row3 col0\" >45</td>\n",
       "      <td id=\"T_6e7c2_row3_col1\" class=\"data row3 col1\" >17</td>\n",
       "      <td id=\"T_6e7c2_row3_col2\" class=\"data row3 col2\" >47</td>\n",
       "      <td id=\"T_6e7c2_row3_col3\" class=\"data row3 col3\" >109</td>\n",
       "    </tr>\n",
       "    <tr>\n",
       "      <th id=\"T_6e7c2_level0_row4\" class=\"row_heading level0 row4\" >All</th>\n",
       "      <th id=\"T_6e7c2_level1_row4\" class=\"row_heading level1 row4\" ></th>\n",
       "      <td id=\"T_6e7c2_row4_col0\" class=\"data row4 col0\" >216</td>\n",
       "      <td id=\"T_6e7c2_row4_col1\" class=\"data row4 col1\" >184</td>\n",
       "      <td id=\"T_6e7c2_row4_col2\" class=\"data row4 col2\" >491</td>\n",
       "      <td id=\"T_6e7c2_row4_col3\" class=\"data row4 col3\" >891</td>\n",
       "    </tr>\n",
       "  </tbody>\n",
       "</table>\n"
      ],
      "text/plain": [
       "<pandas.io.formats.style.Styler at 0x2b796462f08>"
      ]
     },
     "execution_count": 25,
     "metadata": {},
     "output_type": "execute_result"
    }
   ],
   "source": [
    "pd.crosstab([data.Sex,data.Survived],data.Pclass,margins = True).style.background_gradient(cmap='autumn_r')"
   ]
  },
  {
   "cell_type": "markdown",
   "metadata": {},
   "source": [
    "we can see that almost all the women in pclass 1 and 2 survived\n",
    "some men from plcass 1 survived whereas huge number of men died from pclass 2 and 3\n"
   ]
  },
  {
   "cell_type": "code",
   "execution_count": 26,
   "metadata": {},
   "outputs": [
    {
     "data": {
      "text/plain": [
       "<seaborn.axisgrid.FacetGrid at 0x2b78da36888>"
      ]
     },
     "execution_count": 26,
     "metadata": {},
     "output_type": "execute_result"
    },
    {
     "data": {
      "image/png": "[encoded data removed]",
      "text/plain": [
       "<Figure size 1080x360 with 3 Axes>"
      ]
     },
     "metadata": {
      "needs_background": "light"
     },
     "output_type": "display_data"
    }
   ],
   "source": [
    "sns.catplot(x='Survived',col = 'Embarked',kind = 'count',data=data)"
   ]
  },
  {
   "cell_type": "markdown",
   "metadata": {},
   "source": [
    "highest survival rate can be observed for 'S' and lowest for 'C'"
   ]
  },
  {
   "cell_type": "code",
   "execution_count": 27,
   "metadata": {},
   "outputs": [
    {
     "name": "stderr",
     "output_type": "stream",
     "text": [
      "C:\\Users\\Panda\\Anaconda3\\lib\\site-packages\\seaborn\\_decorators.py:43: FutureWarning: Pass the following variables as keyword args: x, y. From version 0.12, the only valid positional argument will be `data`, and passing other arguments without an explicit keyword will result in an error or misinterpretation.\n",
      "  FutureWarning\n"
     ]
    },
    {
     "data": {
      "text/plain": [
       "<seaborn.axisgrid.FacetGrid at 0x2b79f6cfe08>"
      ]
     },
     "execution_count": 27,
     "metadata": {},
     "output_type": "execute_result"
    },
    {
     "data": {
      "image/png": "[encoded data removed]",
      "text/plain": [
       "<Figure size 402.375x360 with 1 Axes>"
      ]
     },
     "metadata": {
      "needs_background": "light"
     },
     "output_type": "display_data"
    }
   ],
   "source": [
    "sns.catplot('Embarked','Survived',hue='Sex',kind = 'point',data=data)"
   ]
  },
  {
   "cell_type": "code",
   "execution_count": 28,
   "metadata": {},
   "outputs": [
    {
     "name": "stderr",
     "output_type": "stream",
     "text": [
      "C:\\Users\\Panda\\Anaconda3\\lib\\site-packages\\seaborn\\_decorators.py:43: FutureWarning: Pass the following variables as keyword args: x, y. From version 0.12, the only valid positional argument will be `data`, and passing other arguments without an explicit keyword will result in an error or misinterpretation.\n",
      "  FutureWarning\n"
     ]
    },
    {
     "data": {
      "text/plain": [
       "<seaborn.axisgrid.FacetGrid at 0x2b79f8f7808>"
      ]
     },
     "execution_count": 28,
     "metadata": {},
     "output_type": "execute_result"
    },
    {
     "data": {
      "image/png": "[encoded data removed]",
      "text/plain": [
       "<Figure size 1122.38x360 with 3 Axes>"
      ]
     },
     "metadata": {
      "needs_background": "light"
     },
     "output_type": "display_data"
    }
   ],
   "source": [
    "sns.catplot('Embarked','Survived',col = 'Pclass',hue='Sex',data=data,kind='point')"
   ]
  },
  {
   "cell_type": "markdown",
   "metadata": {},
   "source": [
    "\n",
    "\n",
    "Embarked, Pclass and Sex :\n",
    "\n",
    "Practically all women of Pclass 2 that embarked in C and Q survived, also nearly all women of Pclass 1 survived.\n",
    "\n",
    "All men of Pclass 1 and 2 embarked in Q died, survival rate for men in Pclass 2 and 3 is always below 0.2\n",
    "\n",
    "For the remaining men in Pclass 1 that embarked in S and Q, survival rate is approx. 0.4\n",
    "\n",
    "survival rate for women in Pclass 3 is also low\n"
   ]
  },
  {
   "cell_type": "code",
   "execution_count": 29,
   "metadata": {},
   "outputs": [
    {
     "data": {
      "text/html": [
       "<div>\n",
       "<style scoped>\n",
       "    .dataframe tbody tr th:only-of-type {\n",
       "        vertical-align: middle;\n",
       "    }\n",
       "\n",
       "    .dataframe tbody tr th {\n",
       "        vertical-align: top;\n",
       "    }\n",
       "\n",
       "    .dataframe thead tr th {\n",
       "        text-align: left;\n",
       "    }\n",
       "\n",
       "    .dataframe thead tr:last-of-type th {\n",
       "        text-align: right;\n",
       "    }\n",
       "</style>\n",
       "<table border=\"1\" class=\"dataframe\">\n",
       "  <thead>\n",
       "    <tr>\n",
       "      <th>Embarked</th>\n",
       "      <th colspan=\"6\" halign=\"left\">C</th>\n",
       "      <th colspan=\"6\" halign=\"left\">Q</th>\n",
       "      <th colspan=\"6\" halign=\"left\">S</th>\n",
       "      <th>All</th>\n",
       "    </tr>\n",
       "    <tr>\n",
       "      <th>Sex</th>\n",
       "      <th colspan=\"3\" halign=\"left\">0</th>\n",
       "      <th colspan=\"3\" halign=\"left\">1</th>\n",
       "      <th colspan=\"3\" halign=\"left\">0</th>\n",
       "      <th colspan=\"3\" halign=\"left\">1</th>\n",
       "      <th colspan=\"3\" halign=\"left\">0</th>\n",
       "      <th colspan=\"3\" halign=\"left\">1</th>\n",
       "      <th></th>\n",
       "    </tr>\n",
       "    <tr>\n",
       "      <th>Pclass</th>\n",
       "      <th>1</th>\n",
       "      <th>2</th>\n",
       "      <th>3</th>\n",
       "      <th>1</th>\n",
       "      <th>2</th>\n",
       "      <th>3</th>\n",
       "      <th>1</th>\n",
       "      <th>2</th>\n",
       "      <th>3</th>\n",
       "      <th>1</th>\n",
       "      <th>2</th>\n",
       "      <th>3</th>\n",
       "      <th>1</th>\n",
       "      <th>2</th>\n",
       "      <th>3</th>\n",
       "      <th>1</th>\n",
       "      <th>2</th>\n",
       "      <th>3</th>\n",
       "      <th></th>\n",
       "    </tr>\n",
       "    <tr>\n",
       "      <th>Survived</th>\n",
       "      <th></th>\n",
       "      <th></th>\n",
       "      <th></th>\n",
       "      <th></th>\n",
       "      <th></th>\n",
       "      <th></th>\n",
       "      <th></th>\n",
       "      <th></th>\n",
       "      <th></th>\n",
       "      <th></th>\n",
       "      <th></th>\n",
       "      <th></th>\n",
       "      <th></th>\n",
       "      <th></th>\n",
       "      <th></th>\n",
       "      <th></th>\n",
       "      <th></th>\n",
       "      <th></th>\n",
       "      <th></th>\n",
       "    </tr>\n",
       "  </thead>\n",
       "  <tbody>\n",
       "    <tr>\n",
       "      <th>0</th>\n",
       "      <td>1</td>\n",
       "      <td>0</td>\n",
       "      <td>8</td>\n",
       "      <td>25</td>\n",
       "      <td>8</td>\n",
       "      <td>33</td>\n",
       "      <td>0</td>\n",
       "      <td>0</td>\n",
       "      <td>9</td>\n",
       "      <td>1</td>\n",
       "      <td>1</td>\n",
       "      <td>36</td>\n",
       "      <td>2</td>\n",
       "      <td>6</td>\n",
       "      <td>55</td>\n",
       "      <td>51</td>\n",
       "      <td>82</td>\n",
       "      <td>231</td>\n",
       "      <td>549</td>\n",
       "    </tr>\n",
       "    <tr>\n",
       "      <th>1</th>\n",
       "      <td>42</td>\n",
       "      <td>7</td>\n",
       "      <td>15</td>\n",
       "      <td>17</td>\n",
       "      <td>2</td>\n",
       "      <td>10</td>\n",
       "      <td>1</td>\n",
       "      <td>2</td>\n",
       "      <td>24</td>\n",
       "      <td>0</td>\n",
       "      <td>0</td>\n",
       "      <td>3</td>\n",
       "      <td>46</td>\n",
       "      <td>61</td>\n",
       "      <td>33</td>\n",
       "      <td>28</td>\n",
       "      <td>15</td>\n",
       "      <td>34</td>\n",
       "      <td>340</td>\n",
       "    </tr>\n",
       "    <tr>\n",
       "      <th>All</th>\n",
       "      <td>43</td>\n",
       "      <td>7</td>\n",
       "      <td>23</td>\n",
       "      <td>42</td>\n",
       "      <td>10</td>\n",
       "      <td>43</td>\n",
       "      <td>1</td>\n",
       "      <td>2</td>\n",
       "      <td>33</td>\n",
       "      <td>1</td>\n",
       "      <td>1</td>\n",
       "      <td>39</td>\n",
       "      <td>48</td>\n",
       "      <td>67</td>\n",
       "      <td>88</td>\n",
       "      <td>79</td>\n",
       "      <td>97</td>\n",
       "      <td>265</td>\n",
       "      <td>889</td>\n",
       "    </tr>\n",
       "  </tbody>\n",
       "</table>\n",
       "</div>"
      ],
      "text/plain": [
       "Embarked   C                     Q                    S                       \\\n",
       "Sex        0          1          0         1          0           1            \n",
       "Pclass     1  2   3   1   2   3  1  2   3  1  2   3   1   2   3   1   2    3   \n",
       "Survived                                                                       \n",
       "0          1  0   8  25   8  33  0  0   9  1  1  36   2   6  55  51  82  231   \n",
       "1         42  7  15  17   2  10  1  2  24  0  0   3  46  61  33  28  15   34   \n",
       "All       43  7  23  42  10  43  1  2  33  1  1  39  48  67  88  79  97  265   \n",
       "\n",
       "Embarked  All  \n",
       "Sex            \n",
       "Pclass         \n",
       "Survived       \n",
       "0         549  \n",
       "1         340  \n",
       "All       889  "
      ]
     },
     "execution_count": 29,
     "metadata": {},
     "output_type": "execute_result"
    }
   ],
   "source": [
    "pd.crosstab([data['Survived']],[data['Embarked'],data['Sex'],data['Pclass']],margins=True)"
   ]
  },
  {
   "cell_type": "code",
   "execution_count": 30,
   "metadata": {},
   "outputs": [
    {
     "data": {
      "text/plain": [
       "array([22, 38, 26, 35, 32, 54,  2, 27, 14,  4, 58, 20, 39, 55, 31, 42, 34,\n",
       "       15, 28,  8, 19, 33, 40, 23, 66, 21, 18,  3, 36, 24,  7, 49, 29, 65,\n",
       "        5, 11, 45, 41, 17, 16, 25,  0, 30, 46, 59, 71, 37, 47, 70, 43, 12,\n",
       "        9, 51, 44,  1, 61, 56, 50, 62, 52, 63, 60, 10, 64, 13, 48, 53, 57,\n",
       "       80,  6, 74])"
      ]
     },
     "execution_count": 30,
     "metadata": {},
     "output_type": "execute_result"
    }
   ],
   "source": [
    "data['Age'].unique()"
   ]
  },
  {
   "cell_type": "code",
   "execution_count": null,
   "metadata": {},
   "outputs": [],
   "source": [
    "\n"
   ]
  },
  {
   "cell_type": "code",
   "execution_count": 31,
   "metadata": {},
   "outputs": [],
   "source": [
    "def age_group(age):\n",
    "    if age<=10:\n",
    "        return 1\n",
    "    elif age<=20:\n",
    "        return 2\n",
    "    elif age<=30:\n",
    "        return 3\n",
    "    elif age<=40:\n",
    "        return 4\n",
    "    elif age<=50:\n",
    "        return 5\n",
    "    elif age<=60:\n",
    "        return 6\n",
    "    elif age<=70:\n",
    "        return 7\n",
    "    else:\n",
    "        return 8"
   ]
  },
  {
   "cell_type": "code",
   "execution_count": 32,
   "metadata": {},
   "outputs": [],
   "source": [
    "data['Age_group'] = data['Age'].apply(age_group)"
   ]
  },
  {
   "cell_type": "markdown",
   "metadata": {},
   "source": [
    "Age_group Description:\n",
    "    \n",
    "1 : age between 0 and 10\n",
    "\n",
    "2 : age between 11 and 20\n",
    "\n",
    "3 : age between 21 and 30\n",
    "\n",
    "4 : age between 31 and 40\n",
    "\n",
    "5 : age between 40 and 50\n",
    "\n",
    "6 : age between 51 and 60\n",
    "\n",
    "7 : age between 61 and 70\n",
    "\n",
    "8 : more than 71"
   ]
  },
  {
   "cell_type": "code",
   "execution_count": 33,
   "metadata": {},
   "outputs": [
    {
     "data": {
      "text/html": [
       "<div>\n",
       "<style scoped>\n",
       "    .dataframe tbody tr th:only-of-type {\n",
       "        vertical-align: middle;\n",
       "    }\n",
       "\n",
       "    .dataframe tbody tr th {\n",
       "        vertical-align: top;\n",
       "    }\n",
       "\n",
       "    .dataframe thead th {\n",
       "        text-align: right;\n",
       "    }\n",
       "</style>\n",
       "<table border=\"1\" class=\"dataframe\">\n",
       "  <thead>\n",
       "    <tr style=\"text-align: right;\">\n",
       "      <th>Age_group</th>\n",
       "      <th>1</th>\n",
       "      <th>2</th>\n",
       "      <th>3</th>\n",
       "      <th>4</th>\n",
       "      <th>5</th>\n",
       "      <th>6</th>\n",
       "      <th>7</th>\n",
       "      <th>8</th>\n",
       "      <th>All</th>\n",
       "    </tr>\n",
       "    <tr>\n",
       "      <th>Survived</th>\n",
       "      <th></th>\n",
       "      <th></th>\n",
       "      <th></th>\n",
       "      <th></th>\n",
       "      <th></th>\n",
       "      <th></th>\n",
       "      <th></th>\n",
       "      <th></th>\n",
       "      <th></th>\n",
       "    </tr>\n",
       "  </thead>\n",
       "  <tbody>\n",
       "    <tr>\n",
       "      <th>0</th>\n",
       "      <td>26</td>\n",
       "      <td>93</td>\n",
       "      <td>192</td>\n",
       "      <td>133</td>\n",
       "      <td>63</td>\n",
       "      <td>25</td>\n",
       "      <td>14</td>\n",
       "      <td>3</td>\n",
       "      <td>549</td>\n",
       "    </tr>\n",
       "    <tr>\n",
       "      <th>1</th>\n",
       "      <td>38</td>\n",
       "      <td>52</td>\n",
       "      <td>102</td>\n",
       "      <td>89</td>\n",
       "      <td>39</td>\n",
       "      <td>17</td>\n",
       "      <td>4</td>\n",
       "      <td>1</td>\n",
       "      <td>342</td>\n",
       "    </tr>\n",
       "    <tr>\n",
       "      <th>All</th>\n",
       "      <td>64</td>\n",
       "      <td>145</td>\n",
       "      <td>294</td>\n",
       "      <td>222</td>\n",
       "      <td>102</td>\n",
       "      <td>42</td>\n",
       "      <td>18</td>\n",
       "      <td>4</td>\n",
       "      <td>891</td>\n",
       "    </tr>\n",
       "  </tbody>\n",
       "</table>\n",
       "</div>"
      ],
      "text/plain": [
       "Age_group   1    2    3    4    5   6   7  8  All\n",
       "Survived                                         \n",
       "0          26   93  192  133   63  25  14  3  549\n",
       "1          38   52  102   89   39  17   4  1  342\n",
       "All        64  145  294  222  102  42  18  4  891"
      ]
     },
     "execution_count": 33,
     "metadata": {},
     "output_type": "execute_result"
    }
   ],
   "source": [
    "pd.crosstab(data['Survived'],data['Age_group'],margins=True)"
   ]
  },
  {
   "cell_type": "markdown",
   "metadata": {},
   "source": [
    "most of the people from age group 3 survived followed by group 4"
   ]
  },
  {
   "cell_type": "code",
   "execution_count": 34,
   "metadata": {},
   "outputs": [
    {
     "name": "stderr",
     "output_type": "stream",
     "text": [
      "C:\\Users\\Panda\\Anaconda3\\lib\\site-packages\\seaborn\\_decorators.py:43: FutureWarning: Pass the following variable as a keyword arg: x. From version 0.12, the only valid positional argument will be `data`, and passing other arguments without an explicit keyword will result in an error or misinterpretation.\n",
      "  FutureWarning\n"
     ]
    },
    {
     "data": {
      "text/plain": [
       "<AxesSubplot:xlabel='Age_group', ylabel='count'>"
      ]
     },
     "execution_count": 34,
     "metadata": {},
     "output_type": "execute_result"
    },
    {
     "data": {
      "image/png": "[encoded data removed]",
      "text/plain": [
       "<Figure size 432x288 with 1 Axes>"
      ]
     },
     "metadata": {
      "needs_background": "light"
     },
     "output_type": "display_data"
    }
   ],
   "source": [
    "sns.countplot('Age_group',hue ='Survived',data = data)"
   ]
  },
  {
   "cell_type": "code",
   "execution_count": 35,
   "metadata": {},
   "outputs": [
    {
     "data": {
      "text/html": [
       "<div>\n",
       "<style scoped>\n",
       "    .dataframe tbody tr th:only-of-type {\n",
       "        vertical-align: middle;\n",
       "    }\n",
       "\n",
       "    .dataframe tbody tr th {\n",
       "        vertical-align: top;\n",
       "    }\n",
       "\n",
       "    .dataframe thead tr th {\n",
       "        text-align: left;\n",
       "    }\n",
       "\n",
       "    .dataframe thead tr:last-of-type th {\n",
       "        text-align: right;\n",
       "    }\n",
       "</style>\n",
       "<table border=\"1\" class=\"dataframe\">\n",
       "  <thead>\n",
       "    <tr>\n",
       "      <th></th>\n",
       "      <th>SibSp</th>\n",
       "      <th colspan=\"3\" halign=\"left\">0</th>\n",
       "      <th colspan=\"3\" halign=\"left\">1</th>\n",
       "      <th colspan=\"3\" halign=\"left\">2</th>\n",
       "      <th colspan=\"3\" halign=\"left\">3</th>\n",
       "      <th>4</th>\n",
       "      <th>5</th>\n",
       "      <th>8</th>\n",
       "      <th>All</th>\n",
       "    </tr>\n",
       "    <tr>\n",
       "      <th></th>\n",
       "      <th>Pclass</th>\n",
       "      <th>1</th>\n",
       "      <th>2</th>\n",
       "      <th>3</th>\n",
       "      <th>1</th>\n",
       "      <th>2</th>\n",
       "      <th>3</th>\n",
       "      <th>1</th>\n",
       "      <th>2</th>\n",
       "      <th>3</th>\n",
       "      <th>1</th>\n",
       "      <th>2</th>\n",
       "      <th>3</th>\n",
       "      <th>3</th>\n",
       "      <th>3</th>\n",
       "      <th>3</th>\n",
       "      <th></th>\n",
       "    </tr>\n",
       "    <tr>\n",
       "      <th>Sex</th>\n",
       "      <th>Survived</th>\n",
       "      <th></th>\n",
       "      <th></th>\n",
       "      <th></th>\n",
       "      <th></th>\n",
       "      <th></th>\n",
       "      <th></th>\n",
       "      <th></th>\n",
       "      <th></th>\n",
       "      <th></th>\n",
       "      <th></th>\n",
       "      <th></th>\n",
       "      <th></th>\n",
       "      <th></th>\n",
       "      <th></th>\n",
       "      <th></th>\n",
       "      <th></th>\n",
       "    </tr>\n",
       "  </thead>\n",
       "  <tbody>\n",
       "    <tr>\n",
       "      <th rowspan=\"2\" valign=\"top\">0</th>\n",
       "      <th>0</th>\n",
       "      <td>1</td>\n",
       "      <td>3</td>\n",
       "      <td>33</td>\n",
       "      <td>2</td>\n",
       "      <td>3</td>\n",
       "      <td>21</td>\n",
       "      <td>0</td>\n",
       "      <td>0</td>\n",
       "      <td>3</td>\n",
       "      <td>0</td>\n",
       "      <td>0</td>\n",
       "      <td>7</td>\n",
       "      <td>4</td>\n",
       "      <td>1</td>\n",
       "      <td>3</td>\n",
       "      <td>81</td>\n",
       "    </tr>\n",
       "    <tr>\n",
       "      <th>1</th>\n",
       "      <td>48</td>\n",
       "      <td>41</td>\n",
       "      <td>48</td>\n",
       "      <td>38</td>\n",
       "      <td>25</td>\n",
       "      <td>17</td>\n",
       "      <td>3</td>\n",
       "      <td>3</td>\n",
       "      <td>4</td>\n",
       "      <td>2</td>\n",
       "      <td>1</td>\n",
       "      <td>1</td>\n",
       "      <td>2</td>\n",
       "      <td>0</td>\n",
       "      <td>0</td>\n",
       "      <td>233</td>\n",
       "    </tr>\n",
       "    <tr>\n",
       "      <th rowspan=\"2\" valign=\"top\">1</th>\n",
       "      <th>0</th>\n",
       "      <td>59</td>\n",
       "      <td>67</td>\n",
       "      <td>235</td>\n",
       "      <td>16</td>\n",
       "      <td>20</td>\n",
       "      <td>35</td>\n",
       "      <td>1</td>\n",
       "      <td>4</td>\n",
       "      <td>7</td>\n",
       "      <td>1</td>\n",
       "      <td>0</td>\n",
       "      <td>4</td>\n",
       "      <td>11</td>\n",
       "      <td>4</td>\n",
       "      <td>4</td>\n",
       "      <td>468</td>\n",
       "    </tr>\n",
       "    <tr>\n",
       "      <th>1</th>\n",
       "      <td>29</td>\n",
       "      <td>9</td>\n",
       "      <td>35</td>\n",
       "      <td>15</td>\n",
       "      <td>7</td>\n",
       "      <td>10</td>\n",
       "      <td>1</td>\n",
       "      <td>1</td>\n",
       "      <td>1</td>\n",
       "      <td>0</td>\n",
       "      <td>0</td>\n",
       "      <td>0</td>\n",
       "      <td>1</td>\n",
       "      <td>0</td>\n",
       "      <td>0</td>\n",
       "      <td>109</td>\n",
       "    </tr>\n",
       "    <tr>\n",
       "      <th>All</th>\n",
       "      <th></th>\n",
       "      <td>137</td>\n",
       "      <td>120</td>\n",
       "      <td>351</td>\n",
       "      <td>71</td>\n",
       "      <td>55</td>\n",
       "      <td>83</td>\n",
       "      <td>5</td>\n",
       "      <td>8</td>\n",
       "      <td>15</td>\n",
       "      <td>3</td>\n",
       "      <td>1</td>\n",
       "      <td>12</td>\n",
       "      <td>18</td>\n",
       "      <td>5</td>\n",
       "      <td>7</td>\n",
       "      <td>891</td>\n",
       "    </tr>\n",
       "  </tbody>\n",
       "</table>\n",
       "</div>"
      ],
      "text/plain": [
       "SibSp           0             1          2         3          4  5  8  All\n",
       "Pclass          1    2    3   1   2   3  1  2   3  1  2   3   3  3  3     \n",
       "Sex Survived                                                              \n",
       "0   0           1    3   33   2   3  21  0  0   3  0  0   7   4  1  3   81\n",
       "    1          48   41   48  38  25  17  3  3   4  2  1   1   2  0  0  233\n",
       "1   0          59   67  235  16  20  35  1  4   7  1  0   4  11  4  4  468\n",
       "    1          29    9   35  15   7  10  1  1   1  0  0   0   1  0  0  109\n",
       "All           137  120  351  71  55  83  5  8  15  3  1  12  18  5  7  891"
      ]
     },
     "execution_count": 35,
     "metadata": {},
     "output_type": "execute_result"
    }
   ],
   "source": [
    "pd.crosstab([data['Sex'],data['Survived']],[data['SibSp'],data['Pclass']],margins=True)"
   ]
  },
  {
   "cell_type": "markdown",
   "metadata": {},
   "source": [
    "\n",
    "\n",
    "For males, no survival rate above 0.5 for any values of SibSp. For females, passengers with SibSp = 3 and Pclass = 3 died, also all females with SibSp > 4 died. For females with SibSp = 1 and Pclass = 3 survival rate is below 0.5\n"
   ]
  },
  {
   "cell_type": "code",
   "execution_count": 36,
   "metadata": {},
   "outputs": [
    {
     "data": {
      "text/html": [
       "<style type=\"text/css\">\n",
       "#T_24c8d_row0_col0, #T_24c8d_row0_col1, #T_24c8d_row0_col2, #T_24c8d_row0_col3, #T_24c8d_row0_col4, #T_24c8d_row0_col6, #T_24c8d_row0_col7, #T_24c8d_row0_col9, #T_24c8d_row0_col11, #T_24c8d_row0_col15, #T_24c8d_row1_col11, #T_24c8d_row1_col12, #T_24c8d_row1_col14, #T_24c8d_row2_col9, #T_24c8d_row2_col14, #T_24c8d_row3_col2, #T_24c8d_row3_col5, #T_24c8d_row3_col8, #T_24c8d_row3_col9, #T_24c8d_row3_col10, #T_24c8d_row3_col11, #T_24c8d_row3_col12, #T_24c8d_row3_col13, #T_24c8d_row3_col14 {\n",
       "  background-color: #ffff00;\n",
       "  color: #000000;\n",
       "}\n",
       "#T_24c8d_row0_col5 {\n",
       "  background-color: #ffe400;\n",
       "  color: #000000;\n",
       "}\n",
       "#T_24c8d_row0_col8 {\n",
       "  background-color: #ffa600;\n",
       "  color: #000000;\n",
       "}\n",
       "#T_24c8d_row0_col10, #T_24c8d_row1_col10, #T_24c8d_row2_col10, #T_24c8d_row2_col12 {\n",
       "  background-color: #ffaa00;\n",
       "  color: #000000;\n",
       "}\n",
       "#T_24c8d_row0_col12 {\n",
       "  background-color: #ff5500;\n",
       "  color: #f1f1f1;\n",
       "}\n",
       "#T_24c8d_row0_col13 {\n",
       "  background-color: #ff6600;\n",
       "  color: #f1f1f1;\n",
       "}\n",
       "#T_24c8d_row0_col14, #T_24c8d_row1_col9, #T_24c8d_row2_col11, #T_24c8d_row4_col0, #T_24c8d_row4_col1, #T_24c8d_row4_col2, #T_24c8d_row4_col3, #T_24c8d_row4_col4, #T_24c8d_row4_col5, #T_24c8d_row4_col6, #T_24c8d_row4_col7, #T_24c8d_row4_col8, #T_24c8d_row4_col9, #T_24c8d_row4_col10, #T_24c8d_row4_col11, #T_24c8d_row4_col12, #T_24c8d_row4_col13, #T_24c8d_row4_col14, #T_24c8d_row4_col15 {\n",
       "  background-color: #ff0000;\n",
       "  color: #f1f1f1;\n",
       "}\n",
       "#T_24c8d_row1_col0, #T_24c8d_row2_col0 {\n",
       "  background-color: #ff9e00;\n",
       "  color: #000000;\n",
       "}\n",
       "#T_24c8d_row1_col1 {\n",
       "  background-color: #ffba00;\n",
       "  color: #000000;\n",
       "}\n",
       "#T_24c8d_row1_col2 {\n",
       "  background-color: #fff400;\n",
       "  color: #000000;\n",
       "}\n",
       "#T_24c8d_row1_col3 {\n",
       "  background-color: #ff7300;\n",
       "  color: #f1f1f1;\n",
       "}\n",
       "#T_24c8d_row1_col4 {\n",
       "  background-color: #ff7b00;\n",
       "  color: #f1f1f1;\n",
       "}\n",
       "#T_24c8d_row1_col5 {\n",
       "  background-color: #ffea00;\n",
       "  color: #000000;\n",
       "}\n",
       "#T_24c8d_row1_col6 {\n",
       "  background-color: #ff8600;\n",
       "  color: #f1f1f1;\n",
       "}\n",
       "#T_24c8d_row1_col7 {\n",
       "  background-color: #ff4f00;\n",
       "  color: #f1f1f1;\n",
       "}\n",
       "#T_24c8d_row1_col8, #T_24c8d_row3_col7 {\n",
       "  background-color: #ffdf00;\n",
       "  color: #000000;\n",
       "}\n",
       "#T_24c8d_row1_col13, #T_24c8d_row2_col13 {\n",
       "  background-color: #ffcc00;\n",
       "  color: #000000;\n",
       "}\n",
       "#T_24c8d_row1_col15, #T_24c8d_row2_col7 {\n",
       "  background-color: #ffcf00;\n",
       "  color: #000000;\n",
       "}\n",
       "#T_24c8d_row2_col1 {\n",
       "  background-color: #ff6900;\n",
       "  color: #f1f1f1;\n",
       "}\n",
       "#T_24c8d_row2_col2 {\n",
       "  background-color: #ff5900;\n",
       "  color: #f1f1f1;\n",
       "}\n",
       "#T_24c8d_row2_col3 {\n",
       "  background-color: #ffad00;\n",
       "  color: #000000;\n",
       "}\n",
       "#T_24c8d_row2_col4, #T_24c8d_row3_col4 {\n",
       "  background-color: #ffce00;\n",
       "  color: #000000;\n",
       "}\n",
       "#T_24c8d_row2_col5, #T_24c8d_row2_col8 {\n",
       "  background-color: #ffb300;\n",
       "  color: #000000;\n",
       "}\n",
       "#T_24c8d_row2_col6 {\n",
       "  background-color: #fff200;\n",
       "  color: #000000;\n",
       "}\n",
       "#T_24c8d_row2_col15 {\n",
       "  background-color: #ff8500;\n",
       "  color: #f1f1f1;\n",
       "}\n",
       "#T_24c8d_row3_col0 {\n",
       "  background-color: #ffc800;\n",
       "  color: #000000;\n",
       "}\n",
       "#T_24c8d_row3_col1 {\n",
       "  background-color: #fffa00;\n",
       "  color: #000000;\n",
       "}\n",
       "#T_24c8d_row3_col3 {\n",
       "  background-color: #ffde00;\n",
       "  color: #000000;\n",
       "}\n",
       "#T_24c8d_row3_col6 {\n",
       "  background-color: #ffd700;\n",
       "  color: #000000;\n",
       "}\n",
       "#T_24c8d_row3_col15 {\n",
       "  background-color: #fff700;\n",
       "  color: #000000;\n",
       "}\n",
       "</style>\n",
       "<table id=\"T_24c8d_\">\n",
       "  <thead>\n",
       "    <tr>\n",
       "      <th class=\"blank\" >&nbsp;</th>\n",
       "      <th class=\"index_name level0\" >Parch</th>\n",
       "      <th class=\"col_heading level0 col0\" colspan=\"3\">0</th>\n",
       "      <th class=\"col_heading level0 col3\" colspan=\"3\">1</th>\n",
       "      <th class=\"col_heading level0 col6\" colspan=\"3\">2</th>\n",
       "      <th class=\"col_heading level0 col9\" colspan=\"2\">3</th>\n",
       "      <th class=\"col_heading level0 col11\" colspan=\"2\">4</th>\n",
       "      <th class=\"col_heading level0 col13\" >5</th>\n",
       "      <th class=\"col_heading level0 col14\" >6</th>\n",
       "      <th class=\"col_heading level0 col15\" >All</th>\n",
       "    </tr>\n",
       "    <tr>\n",
       "      <th class=\"blank\" >&nbsp;</th>\n",
       "      <th class=\"index_name level1\" >Pclass</th>\n",
       "      <th class=\"col_heading level1 col0\" >1</th>\n",
       "      <th class=\"col_heading level1 col1\" >2</th>\n",
       "      <th class=\"col_heading level1 col2\" >3</th>\n",
       "      <th class=\"col_heading level1 col3\" >1</th>\n",
       "      <th class=\"col_heading level1 col4\" >2</th>\n",
       "      <th class=\"col_heading level1 col5\" >3</th>\n",
       "      <th class=\"col_heading level1 col6\" >1</th>\n",
       "      <th class=\"col_heading level1 col7\" >2</th>\n",
       "      <th class=\"col_heading level1 col8\" >3</th>\n",
       "      <th class=\"col_heading level1 col9\" >2</th>\n",
       "      <th class=\"col_heading level1 col10\" >3</th>\n",
       "      <th class=\"col_heading level1 col11\" >1</th>\n",
       "      <th class=\"col_heading level1 col12\" >3</th>\n",
       "      <th class=\"col_heading level1 col13\" >3</th>\n",
       "      <th class=\"col_heading level1 col14\" >3</th>\n",
       "      <th class=\"col_heading level1 col15\" ></th>\n",
       "    </tr>\n",
       "    <tr>\n",
       "      <th class=\"index_name level0\" >Sex</th>\n",
       "      <th class=\"index_name level1\" >Survived</th>\n",
       "      <th class=\"blank col0\" >&nbsp;</th>\n",
       "      <th class=\"blank col1\" >&nbsp;</th>\n",
       "      <th class=\"blank col2\" >&nbsp;</th>\n",
       "      <th class=\"blank col3\" >&nbsp;</th>\n",
       "      <th class=\"blank col4\" >&nbsp;</th>\n",
       "      <th class=\"blank col5\" >&nbsp;</th>\n",
       "      <th class=\"blank col6\" >&nbsp;</th>\n",
       "      <th class=\"blank col7\" >&nbsp;</th>\n",
       "      <th class=\"blank col8\" >&nbsp;</th>\n",
       "      <th class=\"blank col9\" >&nbsp;</th>\n",
       "      <th class=\"blank col10\" >&nbsp;</th>\n",
       "      <th class=\"blank col11\" >&nbsp;</th>\n",
       "      <th class=\"blank col12\" >&nbsp;</th>\n",
       "      <th class=\"blank col13\" >&nbsp;</th>\n",
       "      <th class=\"blank col14\" >&nbsp;</th>\n",
       "      <th class=\"blank col15\" >&nbsp;</th>\n",
       "    </tr>\n",
       "  </thead>\n",
       "  <tbody>\n",
       "    <tr>\n",
       "      <th id=\"T_24c8d_level0_row0\" class=\"row_heading level0 row0\" rowspan=\"2\">0</th>\n",
       "      <th id=\"T_24c8d_level1_row0\" class=\"row_heading level1 row0\" >0</th>\n",
       "      <td id=\"T_24c8d_row0_col0\" class=\"data row0 col0\" >1</td>\n",
       "      <td id=\"T_24c8d_row0_col1\" class=\"data row0 col1\" >5</td>\n",
       "      <td id=\"T_24c8d_row0_col2\" class=\"data row0 col2\" >35</td>\n",
       "      <td id=\"T_24c8d_row0_col3\" class=\"data row0 col3\" >0</td>\n",
       "      <td id=\"T_24c8d_row0_col4\" class=\"data row0 col4\" >1</td>\n",
       "      <td id=\"T_24c8d_row0_col5\" class=\"data row0 col5\" >13</td>\n",
       "      <td id=\"T_24c8d_row0_col6\" class=\"data row0 col6\" >2</td>\n",
       "      <td id=\"T_24c8d_row0_col7\" class=\"data row0 col7\" >0</td>\n",
       "      <td id=\"T_24c8d_row0_col8\" class=\"data row0 col8\" >17</td>\n",
       "      <td id=\"T_24c8d_row0_col9\" class=\"data row0 col9\" >0</td>\n",
       "      <td id=\"T_24c8d_row0_col10\" class=\"data row0 col10\" >1</td>\n",
       "      <td id=\"T_24c8d_row0_col11\" class=\"data row0 col11\" >0</td>\n",
       "      <td id=\"T_24c8d_row0_col12\" class=\"data row0 col12\" >2</td>\n",
       "      <td id=\"T_24c8d_row0_col13\" class=\"data row0 col13\" >3</td>\n",
       "      <td id=\"T_24c8d_row0_col14\" class=\"data row0 col14\" >1</td>\n",
       "      <td id=\"T_24c8d_row0_col15\" class=\"data row0 col15\" >81</td>\n",
       "    </tr>\n",
       "    <tr>\n",
       "      <th id=\"T_24c8d_level1_row1\" class=\"row_heading level1 row1\" >1</th>\n",
       "      <td id=\"T_24c8d_row1_col0\" class=\"data row1 col0\" >63</td>\n",
       "      <td id=\"T_24c8d_row1_col1\" class=\"data row1 col1\" >40</td>\n",
       "      <td id=\"T_24c8d_row1_col2\" class=\"data row1 col2\" >50</td>\n",
       "      <td id=\"T_24c8d_row1_col3\" class=\"data row1 col3\" >17</td>\n",
       "      <td id=\"T_24c8d_row1_col4\" class=\"data row1 col4\" >17</td>\n",
       "      <td id=\"T_24c8d_row1_col5\" class=\"data row1 col5\" >12</td>\n",
       "      <td id=\"T_24c8d_row1_col6\" class=\"data row1 col6\" >11</td>\n",
       "      <td id=\"T_24c8d_row1_col7\" class=\"data row1 col7\" >11</td>\n",
       "      <td id=\"T_24c8d_row1_col8\" class=\"data row1 col8\" >8</td>\n",
       "      <td id=\"T_24c8d_row1_col9\" class=\"data row1 col9\" >2</td>\n",
       "      <td id=\"T_24c8d_row1_col10\" class=\"data row1 col10\" >1</td>\n",
       "      <td id=\"T_24c8d_row1_col11\" class=\"data row1 col11\" >0</td>\n",
       "      <td id=\"T_24c8d_row1_col12\" class=\"data row1 col12\" >0</td>\n",
       "      <td id=\"T_24c8d_row1_col13\" class=\"data row1 col13\" >1</td>\n",
       "      <td id=\"T_24c8d_row1_col14\" class=\"data row1 col14\" >0</td>\n",
       "      <td id=\"T_24c8d_row1_col15\" class=\"data row1 col15\" >233</td>\n",
       "    </tr>\n",
       "    <tr>\n",
       "      <th id=\"T_24c8d_level0_row2\" class=\"row_heading level0 row2\" rowspan=\"2\">1</th>\n",
       "      <th id=\"T_24c8d_level1_row2\" class=\"row_heading level1 row2\" >0</th>\n",
       "      <td id=\"T_24c8d_row2_col0\" class=\"data row2 col0\" >63</td>\n",
       "      <td id=\"T_24c8d_row2_col1\" class=\"data row2 col1\" >81</td>\n",
       "      <td id=\"T_24c8d_row2_col2\" class=\"data row2 col2\" >260</td>\n",
       "      <td id=\"T_24c8d_row2_col3\" class=\"data row2 col3\" >10</td>\n",
       "      <td id=\"T_24c8d_row2_col4\" class=\"data row2 col4\" >7</td>\n",
       "      <td id=\"T_24c8d_row2_col5\" class=\"data row2 col5\" >22</td>\n",
       "      <td id=\"T_24c8d_row2_col6\" class=\"data row2 col6\" >3</td>\n",
       "      <td id=\"T_24c8d_row2_col7\" class=\"data row2 col7\" >3</td>\n",
       "      <td id=\"T_24c8d_row2_col8\" class=\"data row2 col8\" >15</td>\n",
       "      <td id=\"T_24c8d_row2_col9\" class=\"data row2 col9\" >0</td>\n",
       "      <td id=\"T_24c8d_row2_col10\" class=\"data row2 col10\" >1</td>\n",
       "      <td id=\"T_24c8d_row2_col11\" class=\"data row2 col11\" >1</td>\n",
       "      <td id=\"T_24c8d_row2_col12\" class=\"data row2 col12\" >1</td>\n",
       "      <td id=\"T_24c8d_row2_col13\" class=\"data row2 col13\" >1</td>\n",
       "      <td id=\"T_24c8d_row2_col14\" class=\"data row2 col14\" >0</td>\n",
       "      <td id=\"T_24c8d_row2_col15\" class=\"data row2 col15\" >468</td>\n",
       "    </tr>\n",
       "    <tr>\n",
       "      <th id=\"T_24c8d_level1_row3\" class=\"row_heading level1 row3\" >1</th>\n",
       "      <td id=\"T_24c8d_row3_col0\" class=\"data row3 col0\" >36</td>\n",
       "      <td id=\"T_24c8d_row3_col1\" class=\"data row3 col1\" >8</td>\n",
       "      <td id=\"T_24c8d_row3_col2\" class=\"data row3 col2\" >36</td>\n",
       "      <td id=\"T_24c8d_row3_col3\" class=\"data row3 col3\" >4</td>\n",
       "      <td id=\"T_24c8d_row3_col4\" class=\"data row3 col4\" >7</td>\n",
       "      <td id=\"T_24c8d_row3_col5\" class=\"data row3 col5\" >8</td>\n",
       "      <td id=\"T_24c8d_row3_col6\" class=\"data row3 col6\" >5</td>\n",
       "      <td id=\"T_24c8d_row3_col7\" class=\"data row3 col7\" >2</td>\n",
       "      <td id=\"T_24c8d_row3_col8\" class=\"data row3 col8\" >3</td>\n",
       "      <td id=\"T_24c8d_row3_col9\" class=\"data row3 col9\" >0</td>\n",
       "      <td id=\"T_24c8d_row3_col10\" class=\"data row3 col10\" >0</td>\n",
       "      <td id=\"T_24c8d_row3_col11\" class=\"data row3 col11\" >0</td>\n",
       "      <td id=\"T_24c8d_row3_col12\" class=\"data row3 col12\" >0</td>\n",
       "      <td id=\"T_24c8d_row3_col13\" class=\"data row3 col13\" >0</td>\n",
       "      <td id=\"T_24c8d_row3_col14\" class=\"data row3 col14\" >0</td>\n",
       "      <td id=\"T_24c8d_row3_col15\" class=\"data row3 col15\" >109</td>\n",
       "    </tr>\n",
       "    <tr>\n",
       "      <th id=\"T_24c8d_level0_row4\" class=\"row_heading level0 row4\" >All</th>\n",
       "      <th id=\"T_24c8d_level1_row4\" class=\"row_heading level1 row4\" ></th>\n",
       "      <td id=\"T_24c8d_row4_col0\" class=\"data row4 col0\" >163</td>\n",
       "      <td id=\"T_24c8d_row4_col1\" class=\"data row4 col1\" >134</td>\n",
       "      <td id=\"T_24c8d_row4_col2\" class=\"data row4 col2\" >381</td>\n",
       "      <td id=\"T_24c8d_row4_col3\" class=\"data row4 col3\" >31</td>\n",
       "      <td id=\"T_24c8d_row4_col4\" class=\"data row4 col4\" >32</td>\n",
       "      <td id=\"T_24c8d_row4_col5\" class=\"data row4 col5\" >55</td>\n",
       "      <td id=\"T_24c8d_row4_col6\" class=\"data row4 col6\" >21</td>\n",
       "      <td id=\"T_24c8d_row4_col7\" class=\"data row4 col7\" >16</td>\n",
       "      <td id=\"T_24c8d_row4_col8\" class=\"data row4 col8\" >43</td>\n",
       "      <td id=\"T_24c8d_row4_col9\" class=\"data row4 col9\" >2</td>\n",
       "      <td id=\"T_24c8d_row4_col10\" class=\"data row4 col10\" >3</td>\n",
       "      <td id=\"T_24c8d_row4_col11\" class=\"data row4 col11\" >1</td>\n",
       "      <td id=\"T_24c8d_row4_col12\" class=\"data row4 col12\" >3</td>\n",
       "      <td id=\"T_24c8d_row4_col13\" class=\"data row4 col13\" >5</td>\n",
       "      <td id=\"T_24c8d_row4_col14\" class=\"data row4 col14\" >1</td>\n",
       "      <td id=\"T_24c8d_row4_col15\" class=\"data row4 col15\" >891</td>\n",
       "    </tr>\n",
       "  </tbody>\n",
       "</table>\n"
      ],
      "text/plain": [
       "<pandas.io.formats.style.Styler at 0x2b79f90b888>"
      ]
     },
     "execution_count": 36,
     "metadata": {},
     "output_type": "execute_result"
    }
   ],
   "source": [
    "pd.crosstab([data.Sex, data.Survived], [data.Parch, data.Pclass], margins=True).style.background_gradient(cmap='autumn_r')"
   ]
  },
  {
   "cell_type": "markdown",
   "metadata": {},
   "source": [
    "For females with Parch = 2 and Pclass = 3 survival rate is below 0.5\n",
    "All females with Parch = 4 and Pclass = 3 died. All females with Parch > 4 died. (For females with Parch = 1 and Pclass = 3 survival rate is below 0.5) For males,all survival rates below 0.5 for any values of Parch, except for Parch = 2 and Pclass = 1."
   ]
  },
  {
   "cell_type": "code",
   "execution_count": null,
   "metadata": {},
   "outputs": [],
   "source": []
  },
  {
   "cell_type": "code",
   "execution_count": 37,
   "metadata": {},
   "outputs": [],
   "source": [
    "for df in [data]:\n",
    "    data['Fare_bin']=np.nan\n",
    "    for i in range(12,0,-1):\n",
    "        data.loc[ data['Fare'] <= i*50, 'Fare_bin'] = i"
   ]
  },
  {
   "cell_type": "code",
   "execution_count": 38,
   "metadata": {},
   "outputs": [
    {
     "data": {
      "text/html": [
       "<style type=\"text/css\">\n",
       "#T_2b553_row0_col0, #T_2b553_row0_col1, #T_2b553_row0_col3, #T_2b553_row0_col4, #T_2b553_row0_col6, #T_2b553_row0_col8, #T_2b553_row0_col9, #T_2b553_row0_col10, #T_2b553_row0_col11, #T_2b553_row1_col5, #T_2b553_row2_col7, #T_2b553_row2_col10, #T_2b553_row3_col2, #T_2b553_row3_col4, #T_2b553_row3_col7, #T_2b553_row3_col8, #T_2b553_row3_col9 {\n",
       "  background-color: #ffff00;\n",
       "  color: #000000;\n",
       "}\n",
       "#T_2b553_row0_col2 {\n",
       "  background-color: #fff000;\n",
       "  color: #000000;\n",
       "}\n",
       "#T_2b553_row0_col5 {\n",
       "  background-color: #ffc900;\n",
       "  color: #000000;\n",
       "}\n",
       "#T_2b553_row0_col7 {\n",
       "  background-color: #ffdf00;\n",
       "  color: #000000;\n",
       "}\n",
       "#T_2b553_row1_col0 {\n",
       "  background-color: #ffde00;\n",
       "  color: #000000;\n",
       "}\n",
       "#T_2b553_row1_col1 {\n",
       "  background-color: #ffa300;\n",
       "  color: #000000;\n",
       "}\n",
       "#T_2b553_row1_col2 {\n",
       "  background-color: #ffee00;\n",
       "  color: #000000;\n",
       "}\n",
       "#T_2b553_row1_col3 {\n",
       "  background-color: #ff7100;\n",
       "  color: #f1f1f1;\n",
       "}\n",
       "#T_2b553_row1_col4 {\n",
       "  background-color: #ffb600;\n",
       "  color: #000000;\n",
       "}\n",
       "#T_2b553_row1_col6 {\n",
       "  background-color: #ff5f00;\n",
       "  color: #f1f1f1;\n",
       "}\n",
       "#T_2b553_row1_col7 {\n",
       "  background-color: #ff7f00;\n",
       "  color: #f1f1f1;\n",
       "}\n",
       "#T_2b553_row1_col8 {\n",
       "  background-color: #ff5d00;\n",
       "  color: #f1f1f1;\n",
       "}\n",
       "#T_2b553_row1_col9, #T_2b553_row3_col10 {\n",
       "  background-color: #ff5500;\n",
       "  color: #f1f1f1;\n",
       "}\n",
       "#T_2b553_row1_col10, #T_2b553_row2_col9 {\n",
       "  background-color: #ffaa00;\n",
       "  color: #000000;\n",
       "}\n",
       "#T_2b553_row1_col11 {\n",
       "  background-color: #ffcf00;\n",
       "  color: #000000;\n",
       "}\n",
       "#T_2b553_row2_col0 {\n",
       "  background-color: #ff7500;\n",
       "  color: #f1f1f1;\n",
       "}\n",
       "#T_2b553_row2_col1 {\n",
       "  background-color: #ff8800;\n",
       "  color: #f1f1f1;\n",
       "}\n",
       "#T_2b553_row2_col2 {\n",
       "  background-color: #ff6b00;\n",
       "  color: #f1f1f1;\n",
       "}\n",
       "#T_2b553_row2_col3 {\n",
       "  background-color: #ffbb00;\n",
       "  color: #000000;\n",
       "}\n",
       "#T_2b553_row2_col4 {\n",
       "  background-color: #ff4900;\n",
       "  color: #f1f1f1;\n",
       "}\n",
       "#T_2b553_row2_col5 {\n",
       "  background-color: #ff9200;\n",
       "  color: #000000;\n",
       "}\n",
       "#T_2b553_row2_col6 {\n",
       "  background-color: #ffca00;\n",
       "  color: #000000;\n",
       "}\n",
       "#T_2b553_row2_col8 {\n",
       "  background-color: #ffa200;\n",
       "  color: #000000;\n",
       "}\n",
       "#T_2b553_row2_col11 {\n",
       "  background-color: #ff8500;\n",
       "  color: #f1f1f1;\n",
       "}\n",
       "#T_2b553_row3_col0 {\n",
       "  background-color: #ffb500;\n",
       "  color: #000000;\n",
       "}\n",
       "#T_2b553_row3_col1 {\n",
       "  background-color: #ffef00;\n",
       "  color: #000000;\n",
       "}\n",
       "#T_2b553_row3_col3 {\n",
       "  background-color: #ffd300;\n",
       "  color: #000000;\n",
       "}\n",
       "#T_2b553_row3_col5 {\n",
       "  background-color: #ffa400;\n",
       "  color: #000000;\n",
       "}\n",
       "#T_2b553_row3_col6 {\n",
       "  background-color: #ffd500;\n",
       "  color: #000000;\n",
       "}\n",
       "#T_2b553_row3_col11 {\n",
       "  background-color: #fff700;\n",
       "  color: #000000;\n",
       "}\n",
       "#T_2b553_row4_col0, #T_2b553_row4_col1, #T_2b553_row4_col2, #T_2b553_row4_col3, #T_2b553_row4_col4, #T_2b553_row4_col5, #T_2b553_row4_col6, #T_2b553_row4_col7, #T_2b553_row4_col8, #T_2b553_row4_col9, #T_2b553_row4_col10, #T_2b553_row4_col11 {\n",
       "  background-color: #ff0000;\n",
       "  color: #f1f1f1;\n",
       "}\n",
       "</style>\n",
       "<table id=\"T_2b553_\">\n",
       "  <thead>\n",
       "    <tr>\n",
       "      <th class=\"blank\" >&nbsp;</th>\n",
       "      <th class=\"index_name level0\" >Fare_bin</th>\n",
       "      <th class=\"col_heading level0 col0\" colspan=\"3\">1.0</th>\n",
       "      <th class=\"col_heading level0 col3\" colspan=\"3\">2.0</th>\n",
       "      <th class=\"col_heading level0 col6\" >3.0</th>\n",
       "      <th class=\"col_heading level0 col7\" >4.0</th>\n",
       "      <th class=\"col_heading level0 col8\" >5.0</th>\n",
       "      <th class=\"col_heading level0 col9\" >6.0</th>\n",
       "      <th class=\"col_heading level0 col10\" >11.0</th>\n",
       "      <th class=\"col_heading level0 col11\" >All</th>\n",
       "    </tr>\n",
       "    <tr>\n",
       "      <th class=\"blank\" >&nbsp;</th>\n",
       "      <th class=\"index_name level1\" >Pclass</th>\n",
       "      <th class=\"col_heading level1 col0\" >1</th>\n",
       "      <th class=\"col_heading level1 col1\" >2</th>\n",
       "      <th class=\"col_heading level1 col2\" >3</th>\n",
       "      <th class=\"col_heading level1 col3\" >1</th>\n",
       "      <th class=\"col_heading level1 col4\" >2</th>\n",
       "      <th class=\"col_heading level1 col5\" >3</th>\n",
       "      <th class=\"col_heading level1 col6\" >1</th>\n",
       "      <th class=\"col_heading level1 col7\" >1</th>\n",
       "      <th class=\"col_heading level1 col8\" >1</th>\n",
       "      <th class=\"col_heading level1 col9\" >1</th>\n",
       "      <th class=\"col_heading level1 col10\" >1</th>\n",
       "      <th class=\"col_heading level1 col11\" ></th>\n",
       "    </tr>\n",
       "    <tr>\n",
       "      <th class=\"index_name level0\" >Sex</th>\n",
       "      <th class=\"index_name level1\" >Survived</th>\n",
       "      <th class=\"blank col0\" >&nbsp;</th>\n",
       "      <th class=\"blank col1\" >&nbsp;</th>\n",
       "      <th class=\"blank col2\" >&nbsp;</th>\n",
       "      <th class=\"blank col3\" >&nbsp;</th>\n",
       "      <th class=\"blank col4\" >&nbsp;</th>\n",
       "      <th class=\"blank col5\" >&nbsp;</th>\n",
       "      <th class=\"blank col6\" >&nbsp;</th>\n",
       "      <th class=\"blank col7\" >&nbsp;</th>\n",
       "      <th class=\"blank col8\" >&nbsp;</th>\n",
       "      <th class=\"blank col9\" >&nbsp;</th>\n",
       "      <th class=\"blank col10\" >&nbsp;</th>\n",
       "      <th class=\"blank col11\" >&nbsp;</th>\n",
       "    </tr>\n",
       "  </thead>\n",
       "  <tbody>\n",
       "    <tr>\n",
       "      <th id=\"T_2b553_level0_row0\" class=\"row_heading level0 row0\" rowspan=\"2\">0</th>\n",
       "      <th id=\"T_2b553_level1_row0\" class=\"row_heading level1 row0\" >0</th>\n",
       "      <td id=\"T_2b553_row0_col0\" class=\"data row0 col0\" >1</td>\n",
       "      <td id=\"T_2b553_row0_col1\" class=\"data row0 col1\" >6</td>\n",
       "      <td id=\"T_2b553_row0_col2\" class=\"data row0 col2\" >69</td>\n",
       "      <td id=\"T_2b553_row0_col3\" class=\"data row0 col3\" >0</td>\n",
       "      <td id=\"T_2b553_row0_col4\" class=\"data row0 col4\" >0</td>\n",
       "      <td id=\"T_2b553_row0_col5\" class=\"data row0 col5\" >3</td>\n",
       "      <td id=\"T_2b553_row0_col6\" class=\"data row0 col6\" >0</td>\n",
       "      <td id=\"T_2b553_row0_col7\" class=\"data row0 col7\" >2</td>\n",
       "      <td id=\"T_2b553_row0_col8\" class=\"data row0 col8\" >0</td>\n",
       "      <td id=\"T_2b553_row0_col9\" class=\"data row0 col9\" >0</td>\n",
       "      <td id=\"T_2b553_row0_col10\" class=\"data row0 col10\" >0</td>\n",
       "      <td id=\"T_2b553_row0_col11\" class=\"data row0 col11\" >81</td>\n",
       "    </tr>\n",
       "    <tr>\n",
       "      <th id=\"T_2b553_level1_row1\" class=\"row_heading level1 row1\" >1</th>\n",
       "      <td id=\"T_2b553_row1_col0\" class=\"data row1 col0\" >11</td>\n",
       "      <td id=\"T_2b553_row1_col1\" class=\"data row1 col1\" >68</td>\n",
       "      <td id=\"T_2b553_row1_col2\" class=\"data row1 col2\" >72</td>\n",
       "      <td id=\"T_2b553_row1_col3\" class=\"data row1 col3\" >48</td>\n",
       "      <td id=\"T_2b553_row1_col4\" class=\"data row1 col4\" >2</td>\n",
       "      <td id=\"T_2b553_row1_col5\" class=\"data row1 col5\" >0</td>\n",
       "      <td id=\"T_2b553_row1_col6\" class=\"data row1 col6\" >15</td>\n",
       "      <td id=\"T_2b553_row1_col7\" class=\"data row1 col7\" >5</td>\n",
       "      <td id=\"T_2b553_row1_col8\" class=\"data row1 col8\" >7</td>\n",
       "      <td id=\"T_2b553_row1_col9\" class=\"data row1 col9\" >4</td>\n",
       "      <td id=\"T_2b553_row1_col10\" class=\"data row1 col10\" >1</td>\n",
       "      <td id=\"T_2b553_row1_col11\" class=\"data row1 col11\" >233</td>\n",
       "    </tr>\n",
       "    <tr>\n",
       "      <th id=\"T_2b553_level0_row2\" class=\"row_heading level0 row2\" rowspan=\"2\">1</th>\n",
       "      <th id=\"T_2b553_level1_row2\" class=\"row_heading level1 row2\" >0</th>\n",
       "      <td id=\"T_2b553_row2_col0\" class=\"data row2 col0\" >42</td>\n",
       "      <td id=\"T_2b553_row2_col1\" class=\"data row2 col1\" >86</td>\n",
       "      <td id=\"T_2b553_row2_col2\" class=\"data row2 col2\" >294</td>\n",
       "      <td id=\"T_2b553_row2_col3\" class=\"data row2 col3\" >23</td>\n",
       "      <td id=\"T_2b553_row2_col4\" class=\"data row2 col4\" >5</td>\n",
       "      <td id=\"T_2b553_row2_col5\" class=\"data row2 col5\" >6</td>\n",
       "      <td id=\"T_2b553_row2_col6\" class=\"data row2 col6\" >5</td>\n",
       "      <td id=\"T_2b553_row2_col7\" class=\"data row2 col7\" >1</td>\n",
       "      <td id=\"T_2b553_row2_col8\" class=\"data row2 col8\" >4</td>\n",
       "      <td id=\"T_2b553_row2_col9\" class=\"data row2 col9\" >2</td>\n",
       "      <td id=\"T_2b553_row2_col10\" class=\"data row2 col10\" >0</td>\n",
       "      <td id=\"T_2b553_row2_col11\" class=\"data row2 col11\" >468</td>\n",
       "    </tr>\n",
       "    <tr>\n",
       "      <th id=\"T_2b553_level1_row3\" class=\"row_heading level1 row3\" >1</th>\n",
       "      <td id=\"T_2b553_row3_col0\" class=\"data row3 col0\" >23</td>\n",
       "      <td id=\"T_2b553_row3_col1\" class=\"data row3 col1\" >17</td>\n",
       "      <td id=\"T_2b553_row3_col2\" class=\"data row3 col2\" >42</td>\n",
       "      <td id=\"T_2b553_row3_col3\" class=\"data row3 col3\" >15</td>\n",
       "      <td id=\"T_2b553_row3_col4\" class=\"data row3 col4\" >0</td>\n",
       "      <td id=\"T_2b553_row3_col5\" class=\"data row3 col5\" >5</td>\n",
       "      <td id=\"T_2b553_row3_col6\" class=\"data row3 col6\" >4</td>\n",
       "      <td id=\"T_2b553_row3_col7\" class=\"data row3 col7\" >1</td>\n",
       "      <td id=\"T_2b553_row3_col8\" class=\"data row3 col8\" >0</td>\n",
       "      <td id=\"T_2b553_row3_col9\" class=\"data row3 col9\" >0</td>\n",
       "      <td id=\"T_2b553_row3_col10\" class=\"data row3 col10\" >2</td>\n",
       "      <td id=\"T_2b553_row3_col11\" class=\"data row3 col11\" >109</td>\n",
       "    </tr>\n",
       "    <tr>\n",
       "      <th id=\"T_2b553_level0_row4\" class=\"row_heading level0 row4\" >All</th>\n",
       "      <th id=\"T_2b553_level1_row4\" class=\"row_heading level1 row4\" ></th>\n",
       "      <td id=\"T_2b553_row4_col0\" class=\"data row4 col0\" >77</td>\n",
       "      <td id=\"T_2b553_row4_col1\" class=\"data row4 col1\" >177</td>\n",
       "      <td id=\"T_2b553_row4_col2\" class=\"data row4 col2\" >477</td>\n",
       "      <td id=\"T_2b553_row4_col3\" class=\"data row4 col3\" >86</td>\n",
       "      <td id=\"T_2b553_row4_col4\" class=\"data row4 col4\" >7</td>\n",
       "      <td id=\"T_2b553_row4_col5\" class=\"data row4 col5\" >14</td>\n",
       "      <td id=\"T_2b553_row4_col6\" class=\"data row4 col6\" >24</td>\n",
       "      <td id=\"T_2b553_row4_col7\" class=\"data row4 col7\" >9</td>\n",
       "      <td id=\"T_2b553_row4_col8\" class=\"data row4 col8\" >11</td>\n",
       "      <td id=\"T_2b553_row4_col9\" class=\"data row4 col9\" >6</td>\n",
       "      <td id=\"T_2b553_row4_col10\" class=\"data row4 col10\" >3</td>\n",
       "      <td id=\"T_2b553_row4_col11\" class=\"data row4 col11\" >891</td>\n",
       "    </tr>\n",
       "  </tbody>\n",
       "</table>\n"
      ],
      "text/plain": [
       "<pandas.io.formats.style.Styler at 0x2b78d9d5248>"
      ]
     },
     "execution_count": 38,
     "metadata": {},
     "output_type": "execute_result"
    }
   ],
   "source": [
    "pd.crosstab([data.Sex, data.Survived], [data.Fare_bin, data.Pclass], margins=True).style.background_gradient(cmap='autumn_r')"
   ]
  },
  {
   "cell_type": "code",
   "execution_count": 39,
   "metadata": {},
   "outputs": [],
   "source": [
    "data1 = pd.get_dummies(data,columns = ['Pclass','Embarked','Sex'],drop_first=True)"
   ]
  },
  {
   "cell_type": "code",
   "execution_count": 40,
   "metadata": {},
   "outputs": [],
   "source": [
    "data1.drop(columns = ['PassengerId','Name','Ticket', 'Cabin', 'Age_group', 'Fare_bin'],axis=1,inplace = True)"
   ]
  },
  {
   "cell_type": "code",
   "execution_count": 41,
   "metadata": {},
   "outputs": [
    {
     "data": {
      "text/html": [
       "<div>\n",
       "<style scoped>\n",
       "    .dataframe tbody tr th:only-of-type {\n",
       "        vertical-align: middle;\n",
       "    }\n",
       "\n",
       "    .dataframe tbody tr th {\n",
       "        vertical-align: top;\n",
       "    }\n",
       "\n",
       "    .dataframe thead th {\n",
       "        text-align: right;\n",
       "    }\n",
       "</style>\n",
       "<table border=\"1\" class=\"dataframe\">\n",
       "  <thead>\n",
       "    <tr style=\"text-align: right;\">\n",
       "      <th></th>\n",
       "      <th>Survived</th>\n",
       "      <th>Age</th>\n",
       "      <th>SibSp</th>\n",
       "      <th>Parch</th>\n",
       "      <th>Fare</th>\n",
       "      <th>Family_size</th>\n",
       "      <th>Pclass_2</th>\n",
       "      <th>Pclass_3</th>\n",
       "      <th>Embarked_Q</th>\n",
       "      <th>Embarked_S</th>\n",
       "      <th>Sex_1</th>\n",
       "    </tr>\n",
       "  </thead>\n",
       "  <tbody>\n",
       "    <tr>\n",
       "      <th>0</th>\n",
       "      <td>0</td>\n",
       "      <td>22</td>\n",
       "      <td>1</td>\n",
       "      <td>0</td>\n",
       "      <td>7.2500</td>\n",
       "      <td>2</td>\n",
       "      <td>0</td>\n",
       "      <td>1</td>\n",
       "      <td>0</td>\n",
       "      <td>1</td>\n",
       "      <td>1</td>\n",
       "    </tr>\n",
       "    <tr>\n",
       "      <th>1</th>\n",
       "      <td>1</td>\n",
       "      <td>38</td>\n",
       "      <td>1</td>\n",
       "      <td>0</td>\n",
       "      <td>71.2833</td>\n",
       "      <td>2</td>\n",
       "      <td>0</td>\n",
       "      <td>0</td>\n",
       "      <td>0</td>\n",
       "      <td>0</td>\n",
       "      <td>0</td>\n",
       "    </tr>\n",
       "    <tr>\n",
       "      <th>2</th>\n",
       "      <td>1</td>\n",
       "      <td>26</td>\n",
       "      <td>0</td>\n",
       "      <td>0</td>\n",
       "      <td>7.9250</td>\n",
       "      <td>1</td>\n",
       "      <td>0</td>\n",
       "      <td>1</td>\n",
       "      <td>0</td>\n",
       "      <td>1</td>\n",
       "      <td>0</td>\n",
       "    </tr>\n",
       "    <tr>\n",
       "      <th>3</th>\n",
       "      <td>1</td>\n",
       "      <td>35</td>\n",
       "      <td>1</td>\n",
       "      <td>0</td>\n",
       "      <td>53.1000</td>\n",
       "      <td>2</td>\n",
       "      <td>0</td>\n",
       "      <td>0</td>\n",
       "      <td>0</td>\n",
       "      <td>1</td>\n",
       "      <td>0</td>\n",
       "    </tr>\n",
       "    <tr>\n",
       "      <th>4</th>\n",
       "      <td>0</td>\n",
       "      <td>35</td>\n",
       "      <td>0</td>\n",
       "      <td>0</td>\n",
       "      <td>8.0500</td>\n",
       "      <td>1</td>\n",
       "      <td>0</td>\n",
       "      <td>1</td>\n",
       "      <td>0</td>\n",
       "      <td>1</td>\n",
       "      <td>1</td>\n",
       "    </tr>\n",
       "  </tbody>\n",
       "</table>\n",
       "</div>"
      ],
      "text/plain": [
       "   Survived  Age  SibSp  Parch     Fare  Family_size  Pclass_2  Pclass_3  \\\n",
       "0         0   22      1      0   7.2500            2         0         1   \n",
       "1         1   38      1      0  71.2833            2         0         0   \n",
       "2         1   26      0      0   7.9250            1         0         1   \n",
       "3         1   35      1      0  53.1000            2         0         0   \n",
       "4         0   35      0      0   8.0500            1         0         1   \n",
       "\n",
       "   Embarked_Q  Embarked_S  Sex_1  \n",
       "0           0           1      1  \n",
       "1           0           0      0  \n",
       "2           0           1      0  \n",
       "3           0           1      0  \n",
       "4           0           1      1  "
      ]
     },
     "execution_count": 41,
     "metadata": {},
     "output_type": "execute_result"
    }
   ],
   "source": [
    "data1.head()"
   ]
  },
  {
   "cell_type": "code",
   "execution_count": 42,
   "metadata": {},
   "outputs": [
    {
     "name": "stdout",
     "output_type": "stream",
     "text": [
      "<class 'pandas.core.frame.DataFrame'>\n",
      "RangeIndex: 891 entries, 0 to 890\n",
      "Data columns (total 11 columns):\n",
      " #   Column       Non-Null Count  Dtype  \n",
      "---  ------       --------------  -----  \n",
      " 0   Survived     891 non-null    int64  \n",
      " 1   Age          891 non-null    int32  \n",
      " 2   SibSp        891 non-null    int64  \n",
      " 3   Parch        891 non-null    int64  \n",
      " 4   Fare         891 non-null    float64\n",
      " 5   Family_size  891 non-null    int64  \n",
      " 6   Pclass_2     891 non-null    uint8  \n",
      " 7   Pclass_3     891 non-null    uint8  \n",
      " 8   Embarked_Q   891 non-null    uint8  \n",
      " 9   Embarked_S   891 non-null    uint8  \n",
      " 10  Sex_1        891 non-null    uint8  \n",
      "dtypes: float64(1), int32(1), int64(4), uint8(5)\n",
      "memory usage: 42.8 KB\n"
     ]
    }
   ],
   "source": [
    "data1.info()"
   ]
  },
  {
   "cell_type": "code",
   "execution_count": 43,
   "metadata": {},
   "outputs": [],
   "source": [
    "corr = data1.corr()"
   ]
  },
  {
   "cell_type": "code",
   "execution_count": 44,
   "metadata": {},
   "outputs": [
    {
     "data": {
      "text/plain": [
       "<AxesSubplot:>"
      ]
     },
     "execution_count": 44,
     "metadata": {},
     "output_type": "execute_result"
    },
    {
     "data": {
      "image/png": "[encoded data removed]",
      "text/plain": [
       "<Figure size 648x432 with 2 Axes>"
      ]
     },
     "metadata": {
      "needs_background": "light"
     },
     "output_type": "display_data"
    }
   ],
   "source": [
    "plt.figure(figsize=(9,6))\n",
    "sns.heatmap(corr,annot=True)"
   ]
  },
  {
   "cell_type": "markdown",
   "metadata": {},
   "source": [
    "Survived and Fare positively correlated,\n",
    "\n",
    "Survived and Sex_male negatively correlated.\n",
    "\n",
    "Also, Survived and Pclass_3 negatively correlated. SibSp and Parch correlated"
   ]
  },
  {
   "cell_type": "markdown",
   "metadata": {},
   "source": [
    "<b> Modelling </b>"
   ]
  },
  {
   "cell_type": "code",
   "execution_count": 45,
   "metadata": {},
   "outputs": [],
   "source": [
    "scaler = StandardScaler()\n",
    "x,y = data1.drop(columns = ['Survived','Embarked_Q','Embarked_S','Family_size']),data1.Survived"
   ]
  },
  {
   "cell_type": "code",
   "execution_count": 46,
   "metadata": {},
   "outputs": [],
   "source": [
    "x_scaled  = scaler.fit_transform(x)"
   ]
  },
  {
   "cell_type": "code",
   "execution_count": 47,
   "metadata": {},
   "outputs": [],
   "source": [
    "x_train,x_test,y_train,y_test = train_test_split(x,y,test_size=0.2,random_state=101)"
   ]
  },
  {
   "cell_type": "code",
   "execution_count": 48,
   "metadata": {},
   "outputs": [
    {
     "data": {
      "text/plain": [
       "DecisionTreeClassifier()"
      ]
     },
     "execution_count": 48,
     "metadata": {},
     "output_type": "execute_result"
    }
   ],
   "source": [
    "clf = DecisionTreeClassifier()\n",
    "clf.fit(x_train,y_train)"
   ]
  },
  {
   "cell_type": "code",
   "execution_count": 49,
   "metadata": {},
   "outputs": [],
   "source": [
    "y_test_pred = clf.predict(x_test)"
   ]
  },
  {
   "cell_type": "code",
   "execution_count": 50,
   "metadata": {},
   "outputs": [
    {
     "data": {
      "text/plain": [
       "0.7541899441340782"
      ]
     },
     "execution_count": 50,
     "metadata": {},
     "output_type": "execute_result"
    }
   ],
   "source": [
    "accuracy_score(y_test,y_test_pred)"
   ]
  },
  {
   "cell_type": "code",
   "execution_count": 51,
   "metadata": {},
   "outputs": [],
   "source": [
    "classification_rep = pd.DataFrame(classification_report(y_test,y_test_pred,output_dict= True))"
   ]
  },
  {
   "cell_type": "code",
   "execution_count": 52,
   "metadata": {},
   "outputs": [
    {
     "data": {
      "text/html": [
       "<div>\n",
       "<style scoped>\n",
       "    .dataframe tbody tr th:only-of-type {\n",
       "        vertical-align: middle;\n",
       "    }\n",
       "\n",
       "    .dataframe tbody tr th {\n",
       "        vertical-align: top;\n",
       "    }\n",
       "\n",
       "    .dataframe thead th {\n",
       "        text-align: right;\n",
       "    }\n",
       "</style>\n",
       "<table border=\"1\" class=\"dataframe\">\n",
       "  <thead>\n",
       "    <tr style=\"text-align: right;\">\n",
       "      <th></th>\n",
       "      <th>0</th>\n",
       "      <th>1</th>\n",
       "      <th>accuracy</th>\n",
       "      <th>macro avg</th>\n",
       "      <th>weighted avg</th>\n",
       "    </tr>\n",
       "  </thead>\n",
       "  <tbody>\n",
       "    <tr>\n",
       "      <th>precision</th>\n",
       "      <td>0.757009</td>\n",
       "      <td>0.750000</td>\n",
       "      <td>0.75419</td>\n",
       "      <td>0.753505</td>\n",
       "      <td>0.753877</td>\n",
       "    </tr>\n",
       "    <tr>\n",
       "      <th>recall</th>\n",
       "      <td>0.818182</td>\n",
       "      <td>0.675000</td>\n",
       "      <td>0.75419</td>\n",
       "      <td>0.746591</td>\n",
       "      <td>0.754190</td>\n",
       "    </tr>\n",
       "    <tr>\n",
       "      <th>f1-score</th>\n",
       "      <td>0.786408</td>\n",
       "      <td>0.710526</td>\n",
       "      <td>0.75419</td>\n",
       "      <td>0.748467</td>\n",
       "      <td>0.752494</td>\n",
       "    </tr>\n",
       "    <tr>\n",
       "      <th>support</th>\n",
       "      <td>99.000000</td>\n",
       "      <td>80.000000</td>\n",
       "      <td>0.75419</td>\n",
       "      <td>179.000000</td>\n",
       "      <td>179.000000</td>\n",
       "    </tr>\n",
       "  </tbody>\n",
       "</table>\n",
       "</div>"
      ],
      "text/plain": [
       "                   0          1  accuracy   macro avg  weighted avg\n",
       "precision   0.757009   0.750000   0.75419    0.753505      0.753877\n",
       "recall      0.818182   0.675000   0.75419    0.746591      0.754190\n",
       "f1-score    0.786408   0.710526   0.75419    0.748467      0.752494\n",
       "support    99.000000  80.000000   0.75419  179.000000    179.000000"
      ]
     },
     "execution_count": 52,
     "metadata": {},
     "output_type": "execute_result"
    }
   ],
   "source": [
    "classification_rep"
   ]
  },
  {
   "cell_type": "code",
   "execution_count": 53,
   "metadata": {},
   "outputs": [],
   "source": [
    "y_train_pred = clf.predict(x_train)"
   ]
  },
  {
   "cell_type": "code",
   "execution_count": 54,
   "metadata": {},
   "outputs": [
    {
     "data": {
      "text/plain": [
       "0.9859550561797753"
      ]
     },
     "execution_count": 54,
     "metadata": {},
     "output_type": "execute_result"
    }
   ],
   "source": [
    "accuracy_score(y_train,y_train_pred)"
   ]
  },
  {
   "cell_type": "markdown",
   "metadata": {},
   "source": [
    "<b> Hyperparameter tuning </b>"
   ]
  },
  {
   "cell_type": "code",
   "execution_count": 55,
   "metadata": {},
   "outputs": [],
   "source": [
    "path = clf.cost_complexity_pruning_path(x,y)"
   ]
  },
  {
   "cell_type": "code",
   "execution_count": 56,
   "metadata": {},
   "outputs": [],
   "source": [
    "ccp_alpha = path.ccp_alphas\n",
    "ccp_alpha = ccp_alpha[:85]"
   ]
  },
  {
   "cell_type": "code",
   "execution_count": 57,
   "metadata": {},
   "outputs": [],
   "source": [
    "models = []\n",
    "for ccp in ccp_alpha:\n",
    "    model = DecisionTreeClassifier(ccp_alpha=ccp)\n",
    "    model.fit(x_train,y_train)\n",
    "    models.append(model)\n"
   ]
  },
  {
   "cell_type": "code",
   "execution_count": 58,
   "metadata": {},
   "outputs": [
    {
     "data": {
      "text/plain": [
       "[DecisionTreeClassifier(),\n",
       " DecisionTreeClassifier(),\n",
       " DecisionTreeClassifier(ccp_alpha=0.00018705574261129818),\n",
       " DecisionTreeClassifier(ccp_alpha=0.00022446689113355756),\n",
       " DecisionTreeClassifier(ccp_alpha=0.0002992891881780772),\n",
       " DecisionTreeClassifier(ccp_alpha=0.00033009836931405576),\n",
       " DecisionTreeClassifier(ccp_alpha=0.0003521049272683257),\n",
       " DecisionTreeClassifier(ccp_alpha=0.00037411148522259615),\n",
       " DecisionTreeClassifier(ccp_alpha=0.00037411148522259615),\n",
       " DecisionTreeClassifier(ccp_alpha=0.00037411148522259615),\n",
       " DecisionTreeClassifier(ccp_alpha=0.00037411148522259615),\n",
       " DecisionTreeClassifier(ccp_alpha=0.00037411148522259615),\n",
       " DecisionTreeClassifier(ccp_alpha=0.0004008337341670676),\n",
       " DecisionTreeClassifier(ccp_alpha=0.00044537081574118516),\n",
       " DecisionTreeClassifier(ccp_alpha=0.0004489337822671151),\n",
       " DecisionTreeClassifier(ccp_alpha=0.0005424616535727646),\n",
       " DecisionTreeClassifier(ccp_alpha=0.0005505791669313675),\n",
       " DecisionTreeClassifier(ccp_alpha=0.0005586731512657438),\n",
       " DecisionTreeClassifier(ccp_alpha=0.0005611672278338943),\n",
       " DecisionTreeClassifier(ccp_alpha=0.0005611672278338945),\n",
       " DecisionTreeClassifier(ccp_alpha=0.0005772005772005772),\n",
       " DecisionTreeClassifier(ccp_alpha=0.000589225589225589),\n",
       " DecisionTreeClassifier(ccp_alpha=0.0005892255892255894),\n",
       " DecisionTreeClassifier(ccp_alpha=0.0006235191420376605),\n",
       " DecisionTreeClassifier(ccp_alpha=0.0006413339746673081),\n",
       " DecisionTreeClassifier(ccp_alpha=0.0007215007215007228),\n",
       " DecisionTreeClassifier(ccp_alpha=0.0007406651626629164),\n",
       " DecisionTreeClassifier(ccp_alpha=0.0007482229704451926),\n",
       " DecisionTreeClassifier(ccp_alpha=0.000748222970445193),\n",
       " DecisionTreeClassifier(ccp_alpha=0.0008294586072363844),\n",
       " DecisionTreeClassifier(ccp_alpha=0.0008417508417508417),\n",
       " DecisionTreeClassifier(ccp_alpha=0.0008417508417508417),\n",
       " DecisionTreeClassifier(ccp_alpha=0.0008551119662230772),\n",
       " DecisionTreeClassifier(ccp_alpha=0.0008818342151675485),\n",
       " DecisionTreeClassifier(ccp_alpha=0.000897867564534231),\n",
       " DecisionTreeClassifier(ccp_alpha=0.0009110714993067936),\n",
       " DecisionTreeClassifier(ccp_alpha=0.0009352787130564909),\n",
       " DecisionTreeClassifier(ccp_alpha=0.0009362790111453207),\n",
       " DecisionTreeClassifier(ccp_alpha=0.0009486398375287267),\n",
       " DecisionTreeClassifier(ccp_alpha=0.000952078436355165),\n",
       " DecisionTreeClassifier(ccp_alpha=0.0009820426487093155),\n",
       " DecisionTreeClassifier(ccp_alpha=0.0009820426487093155),\n",
       " DecisionTreeClassifier(ccp_alpha=0.0009976306272602565),\n",
       " DecisionTreeClassifier(ccp_alpha=0.0009976306272602568),\n",
       " DecisionTreeClassifier(ccp_alpha=0.0009987309551579707),\n",
       " DecisionTreeClassifier(ccp_alpha=0.0010360010360010356),\n",
       " DecisionTreeClassifier(ccp_alpha=0.0010381593714927052),\n",
       " DecisionTreeClassifier(ccp_alpha=0.001048455296821311),\n",
       " DecisionTreeClassifier(ccp_alpha=0.0010596884286611756),\n",
       " DecisionTreeClassifier(ccp_alpha=0.0010599825414640233),\n",
       " DecisionTreeClassifier(ccp_alpha=0.0010674201059021461),\n",
       " DecisionTreeClassifier(ccp_alpha=0.001122334455667789),\n",
       " DecisionTreeClassifier(ccp_alpha=0.001122334455667789),\n",
       " DecisionTreeClassifier(ccp_alpha=0.0011255319897295214),\n",
       " DecisionTreeClassifier(ccp_alpha=0.0011669014279006833),\n",
       " DecisionTreeClassifier(ccp_alpha=0.0011695040677677522),\n",
       " DecisionTreeClassifier(ccp_alpha=0.0012125220458553783),\n",
       " DecisionTreeClassifier(ccp_alpha=0.0012243648607284973),\n",
       " DecisionTreeClassifier(ccp_alpha=0.0012333288272960504),\n",
       " DecisionTreeClassifier(ccp_alpha=0.0012790136246926351),\n",
       " DecisionTreeClassifier(ccp_alpha=0.0012826679493346165),\n",
       " DecisionTreeClassifier(ccp_alpha=0.0013468013468013467),\n",
       " DecisionTreeClassifier(ccp_alpha=0.0014964459408903852),\n",
       " DecisionTreeClassifier(ccp_alpha=0.0015276218979922676),\n",
       " DecisionTreeClassifier(ccp_alpha=0.0015488215488215491),\n",
       " DecisionTreeClassifier(ccp_alpha=0.0015741833923652096),\n",
       " DecisionTreeClassifier(ccp_alpha=0.0015806210250654696),\n",
       " DecisionTreeClassifier(ccp_alpha=0.0016995350328683654),\n",
       " DecisionTreeClassifier(ccp_alpha=0.0017316017316017325),\n",
       " DecisionTreeClassifier(ccp_alpha=0.001795735129068463),\n",
       " DecisionTreeClassifier(ccp_alpha=0.0018417796195573984),\n",
       " DecisionTreeClassifier(ccp_alpha=0.0019350867087492608),\n",
       " DecisionTreeClassifier(ccp_alpha=0.001956890845779735),\n",
       " DecisionTreeClassifier(ccp_alpha=0.0020041686708353375),\n",
       " DecisionTreeClassifier(ccp_alpha=0.00209502431724654),\n",
       " DecisionTreeClassifier(ccp_alpha=0.0023381967826412303),\n",
       " DecisionTreeClassifier(ccp_alpha=0.0024666691333357985),\n",
       " DecisionTreeClassifier(ccp_alpha=0.002667798106672668),\n",
       " DecisionTreeClassifier(ccp_alpha=0.0029360463703898033),\n",
       " DecisionTreeClassifier(ccp_alpha=0.002958769625436293),\n",
       " DecisionTreeClassifier(ccp_alpha=0.0031439884867780835),\n",
       " DecisionTreeClassifier(ccp_alpha=0.0036170725825898087),\n",
       " DecisionTreeClassifier(ccp_alpha=0.0037270949317154134),\n",
       " DecisionTreeClassifier(ccp_alpha=0.0041558322820376414),\n",
       " DecisionTreeClassifier(ccp_alpha=0.009976306272602568)]"
      ]
     },
     "execution_count": 58,
     "metadata": {},
     "output_type": "execute_result"
    }
   ],
   "source": [
    "models"
   ]
  },
  {
   "cell_type": "code",
   "execution_count": 59,
   "metadata": {},
   "outputs": [],
   "source": [
    "#select cpp alpha values where train and test accuracy are same or nearby same"
   ]
  },
  {
   "cell_type": "code",
   "execution_count": 60,
   "metadata": {},
   "outputs": [],
   "source": [
    "train_score = [model.score(x_train,y_train)for model in models]    "
   ]
  },
  {
   "cell_type": "code",
   "execution_count": 61,
   "metadata": {},
   "outputs": [],
   "source": [
    "test_score = [model.score(x_test,y_test)for model in models]    "
   ]
  },
  {
   "cell_type": "code",
   "execution_count": 62,
   "metadata": {},
   "outputs": [
    {
     "data": {
      "text/plain": [
       "[0.9859550561797753,\n",
       " 0.9859550561797753,\n",
       " 0.9859550561797753,\n",
       " 0.9859550561797753,\n",
       " 0.9859550561797753,\n",
       " 0.9859550561797753,\n",
       " 0.9859550561797753,\n",
       " 0.9859550561797753,\n",
       " 0.9859550561797753,\n",
       " 0.9859550561797753,\n",
       " 0.9859550561797753,\n",
       " 0.9859550561797753,\n",
       " 0.9859550561797753,\n",
       " 0.9859550561797753,\n",
       " 0.9859550561797753,\n",
       " 0.9859550561797753,\n",
       " 0.9859550561797753,\n",
       " 0.9859550561797753,\n",
       " 0.9859550561797753,\n",
       " 0.9859550561797753,\n",
       " 0.9859550561797753,\n",
       " 0.9859550561797753,\n",
       " 0.9859550561797753,\n",
       " 0.9859550561797753,\n",
       " 0.9845505617977528,\n",
       " 0.9845505617977528,\n",
       " 0.9859550561797753,\n",
       " 0.9845505617977528,\n",
       " 0.9859550561797753,\n",
       " 0.9803370786516854,\n",
       " 0.9789325842696629,\n",
       " 0.9803370786516854,\n",
       " 0.9803370786516854,\n",
       " 0.976123595505618,\n",
       " 0.9775280898876404,\n",
       " 0.9775280898876404,\n",
       " 0.9691011235955056,\n",
       " 0.9662921348314607,\n",
       " 0.9648876404494382,\n",
       " 0.9648876404494382,\n",
       " 0.9691011235955056,\n",
       " 0.9634831460674157,\n",
       " 0.9662921348314607,\n",
       " 0.9606741573033708,\n",
       " 0.9606741573033708,\n",
       " 0.9578651685393258,\n",
       " 0.9662921348314607,\n",
       " 0.9606741573033708,\n",
       " 0.9606741573033708,\n",
       " 0.9578651685393258,\n",
       " 0.9634831460674157,\n",
       " 0.9634831460674157,\n",
       " 0.9578651685393258,\n",
       " 0.9564606741573034,\n",
       " 0.952247191011236,\n",
       " 0.9536516853932584,\n",
       " 0.9452247191011236,\n",
       " 0.9536516853932584,\n",
       " 0.949438202247191,\n",
       " 0.9438202247191011,\n",
       " 0.9424157303370787,\n",
       " 0.9424157303370787,\n",
       " 0.9213483146067416,\n",
       " 0.9199438202247191,\n",
       " 0.9199438202247191,\n",
       " 0.9199438202247191,\n",
       " 0.9283707865168539,\n",
       " 0.9129213483146067,\n",
       " 0.9087078651685393,\n",
       " 0.901685393258427,\n",
       " 0.9073033707865169,\n",
       " 0.8918539325842697,\n",
       " 0.898876404494382,\n",
       " 0.8918539325842697,\n",
       " 0.8876404494382022,\n",
       " 0.8792134831460674,\n",
       " 0.8792134831460674,\n",
       " 0.8525280898876404,\n",
       " 0.8525280898876404,\n",
       " 0.8525280898876404,\n",
       " 0.8525280898876404,\n",
       " 0.8441011235955056,\n",
       " 0.8441011235955056,\n",
       " 0.8328651685393258,\n",
       " 0.8216292134831461]"
      ]
     },
     "execution_count": 62,
     "metadata": {},
     "output_type": "execute_result"
    }
   ],
   "source": [
    "train_score"
   ]
  },
  {
   "cell_type": "code",
   "execution_count": 63,
   "metadata": {},
   "outputs": [
    {
     "data": {
      "text/plain": [
       "[0.7541899441340782,\n",
       " 0.770949720670391,\n",
       " 0.7653631284916201,\n",
       " 0.7486033519553073,\n",
       " 0.7541899441340782,\n",
       " 0.7486033519553073,\n",
       " 0.7821229050279329,\n",
       " 0.7486033519553073,\n",
       " 0.7486033519553073,\n",
       " 0.7597765363128491,\n",
       " 0.7318435754189944,\n",
       " 0.7486033519553073,\n",
       " 0.7430167597765364,\n",
       " 0.7374301675977654,\n",
       " 0.7430167597765364,\n",
       " 0.7374301675977654,\n",
       " 0.7318435754189944,\n",
       " 0.7374301675977654,\n",
       " 0.7653631284916201,\n",
       " 0.7541899441340782,\n",
       " 0.7374301675977654,\n",
       " 0.7486033519553073,\n",
       " 0.7486033519553073,\n",
       " 0.7430167597765364,\n",
       " 0.7486033519553073,\n",
       " 0.7374301675977654,\n",
       " 0.7486033519553073,\n",
       " 0.7318435754189944,\n",
       " 0.7262569832402235,\n",
       " 0.7430167597765364,\n",
       " 0.7430167597765364,\n",
       " 0.7486033519553073,\n",
       " 0.7653631284916201,\n",
       " 0.7597765363128491,\n",
       " 0.7653631284916201,\n",
       " 0.7430167597765364,\n",
       " 0.7486033519553073,\n",
       " 0.7653631284916201,\n",
       " 0.7430167597765364,\n",
       " 0.7597765363128491,\n",
       " 0.7374301675977654,\n",
       " 0.776536312849162,\n",
       " 0.7597765363128491,\n",
       " 0.7597765363128491,\n",
       " 0.7653631284916201,\n",
       " 0.7597765363128491,\n",
       " 0.7597765363128491,\n",
       " 0.770949720670391,\n",
       " 0.770949720670391,\n",
       " 0.7430167597765364,\n",
       " 0.7597765363128491,\n",
       " 0.7541899441340782,\n",
       " 0.7486033519553073,\n",
       " 0.776536312849162,\n",
       " 0.7541899441340782,\n",
       " 0.7597765363128491,\n",
       " 0.7486033519553073,\n",
       " 0.7653631284916201,\n",
       " 0.7597765363128491,\n",
       " 0.776536312849162,\n",
       " 0.776536312849162,\n",
       " 0.770949720670391,\n",
       " 0.7988826815642458,\n",
       " 0.7932960893854749,\n",
       " 0.8100558659217877,\n",
       " 0.8100558659217877,\n",
       " 0.7932960893854749,\n",
       " 0.7932960893854749,\n",
       " 0.8268156424581006,\n",
       " 0.8156424581005587,\n",
       " 0.8324022346368715,\n",
       " 0.8156424581005587,\n",
       " 0.8324022346368715,\n",
       " 0.8100558659217877,\n",
       " 0.7988826815642458,\n",
       " 0.8212290502793296,\n",
       " 0.8212290502793296,\n",
       " 0.8156424581005587,\n",
       " 0.8156424581005587,\n",
       " 0.8156424581005587,\n",
       " 0.8100558659217877,\n",
       " 0.7877094972067039,\n",
       " 0.7877094972067039,\n",
       " 0.8156424581005587,\n",
       " 0.8044692737430168]"
      ]
     },
     "execution_count": 63,
     "metadata": {},
     "output_type": "execute_result"
    }
   ],
   "source": [
    "test_score"
   ]
  },
  {
   "cell_type": "code",
   "execution_count": 64,
   "metadata": {},
   "outputs": [],
   "source": [
    "#train,test score and ccp_alphas relation"
   ]
  },
  {
   "cell_type": "code",
   "execution_count": 65,
   "metadata": {},
   "outputs": [
    {
     "data": {
      "text/plain": [
       "<matplotlib.legend.Legend at 0x2b7a025cd08>"
      ]
     },
     "execution_count": 65,
     "metadata": {},
     "output_type": "execute_result"
    },
    {
     "data": {
      "image/png": "[encoded data removed]",
      "text/plain": [
       "<Figure size 432x288 with 1 Axes>"
      ]
     },
     "metadata": {
      "needs_background": "light"
     },
     "output_type": "display_data"
    }
   ],
   "source": [
    "fig,ax = plt.subplots()\n",
    "ax.plot(ccp_alpha,train_score,marker= 'o',label = 'train')\n",
    "ax.plot(ccp_alpha,test_score,marker='o',label = 'test')\n",
    "ax.legend()"
   ]
  },
  {
   "cell_type": "code",
   "execution_count": 66,
   "metadata": {},
   "outputs": [],
   "source": [
    "dt_model_ccp = DecisionTreeClassifier(random_state = 0, ccp_alpha = 0.01)"
   ]
  },
  {
   "cell_type": "code",
   "execution_count": 67,
   "metadata": {},
   "outputs": [
    {
     "data": {
      "text/plain": [
       "DecisionTreeClassifier(ccp_alpha=0.01, random_state=0)"
      ]
     },
     "execution_count": 67,
     "metadata": {},
     "output_type": "execute_result"
    }
   ],
   "source": [
    "dt_model_ccp.fit(x_train,y_train)"
   ]
  },
  {
   "cell_type": "code",
   "execution_count": 68,
   "metadata": {},
   "outputs": [
    {
     "data": {
      "text/plain": [
       "0.8216292134831461"
      ]
     },
     "execution_count": 68,
     "metadata": {},
     "output_type": "execute_result"
    }
   ],
   "source": [
    "dt_model_ccp.score(x_train,y_train)"
   ]
  },
  {
   "cell_type": "code",
   "execution_count": 69,
   "metadata": {},
   "outputs": [
    {
     "data": {
      "text/plain": [
       "0.8044692737430168"
      ]
     },
     "execution_count": 69,
     "metadata": {},
     "output_type": "execute_result"
    }
   ],
   "source": [
    "dt_model_ccp.score(x_test,y_test)"
   ]
  },
  {
   "cell_type": "markdown",
   "metadata": {},
   "source": [
    "here we can clear see that there is negligible differnece in train n test score"
   ]
  },
  {
   "cell_type": "code",
   "execution_count": 70,
   "metadata": {},
   "outputs": [],
   "source": [
    "y_pred_train = dt_model_ccp.predict(x_train)"
   ]
  },
  {
   "cell_type": "code",
   "execution_count": 71,
   "metadata": {},
   "outputs": [],
   "source": [
    "y_pred_test = dt_model_ccp.predict(x_test)"
   ]
  },
  {
   "cell_type": "code",
   "execution_count": 72,
   "metadata": {},
   "outputs": [
    {
     "data": {
      "text/plain": [
       "0.8216292134831461"
      ]
     },
     "execution_count": 72,
     "metadata": {},
     "output_type": "execute_result"
    }
   ],
   "source": [
    "accuracy_score(y_train,y_pred_train)"
   ]
  },
  {
   "cell_type": "code",
   "execution_count": 73,
   "metadata": {},
   "outputs": [
    {
     "data": {
      "text/plain": [
       "0.8044692737430168"
      ]
     },
     "execution_count": 73,
     "metadata": {},
     "output_type": "execute_result"
    }
   ],
   "source": [
    "accuracy_score(y_test,y_pred_test)"
   ]
  },
  {
   "cell_type": "markdown",
   "metadata": {},
   "source": [
    "<b> Save the model </b>"
   ]
  },
  {
   "cell_type": "code",
   "execution_count": 74,
   "metadata": {},
   "outputs": [],
   "source": [
    "import pickle"
   ]
  },
  {
   "cell_type": "code",
   "execution_count": 147,
   "metadata": {},
   "outputs": [],
   "source": [
    "pickle.dump(dt_model_ccp,open('titanicModel1.pickle','wb'))"
   ]
  },
  {
   "cell_type": "code",
   "execution_count": 156,
   "metadata": {},
   "outputs": [],
   "source": [
    "model = pickle.load(open('titanicModel1.pickle','rb'))"
   ]
  },
  {
   "cell_type": "code",
   "execution_count": 75,
   "metadata": {},
   "outputs": [
    {
     "data": {
      "text/html": [
       "<div>\n",
       "<style scoped>\n",
       "    .dataframe tbody tr th:only-of-type {\n",
       "        vertical-align: middle;\n",
       "    }\n",
       "\n",
       "    .dataframe tbody tr th {\n",
       "        vertical-align: top;\n",
       "    }\n",
       "\n",
       "    .dataframe thead th {\n",
       "        text-align: right;\n",
       "    }\n",
       "</style>\n",
       "<table border=\"1\" class=\"dataframe\">\n",
       "  <thead>\n",
       "    <tr style=\"text-align: right;\">\n",
       "      <th></th>\n",
       "      <th>Age</th>\n",
       "      <th>SibSp</th>\n",
       "      <th>Parch</th>\n",
       "      <th>Fare</th>\n",
       "      <th>Pclass_2</th>\n",
       "      <th>Pclass_3</th>\n",
       "      <th>Sex_1</th>\n",
       "    </tr>\n",
       "  </thead>\n",
       "  <tbody>\n",
       "    <tr>\n",
       "      <th>733</th>\n",
       "      <td>23</td>\n",
       "      <td>0</td>\n",
       "      <td>0</td>\n",
       "      <td>13.0000</td>\n",
       "      <td>1</td>\n",
       "      <td>0</td>\n",
       "      <td>1</td>\n",
       "    </tr>\n",
       "    <tr>\n",
       "      <th>857</th>\n",
       "      <td>51</td>\n",
       "      <td>0</td>\n",
       "      <td>0</td>\n",
       "      <td>26.5500</td>\n",
       "      <td>0</td>\n",
       "      <td>0</td>\n",
       "      <td>1</td>\n",
       "    </tr>\n",
       "    <tr>\n",
       "      <th>81</th>\n",
       "      <td>29</td>\n",
       "      <td>0</td>\n",
       "      <td>0</td>\n",
       "      <td>9.5000</td>\n",
       "      <td>0</td>\n",
       "      <td>1</td>\n",
       "      <td>1</td>\n",
       "    </tr>\n",
       "    <tr>\n",
       "      <th>319</th>\n",
       "      <td>40</td>\n",
       "      <td>1</td>\n",
       "      <td>1</td>\n",
       "      <td>134.5000</td>\n",
       "      <td>0</td>\n",
       "      <td>0</td>\n",
       "      <td>0</td>\n",
       "    </tr>\n",
       "    <tr>\n",
       "      <th>720</th>\n",
       "      <td>6</td>\n",
       "      <td>0</td>\n",
       "      <td>1</td>\n",
       "      <td>33.0000</td>\n",
       "      <td>1</td>\n",
       "      <td>0</td>\n",
       "      <td>0</td>\n",
       "    </tr>\n",
       "    <tr>\n",
       "      <th>...</th>\n",
       "      <td>...</td>\n",
       "      <td>...</td>\n",
       "      <td>...</td>\n",
       "      <td>...</td>\n",
       "      <td>...</td>\n",
       "      <td>...</td>\n",
       "      <td>...</td>\n",
       "    </tr>\n",
       "    <tr>\n",
       "      <th>575</th>\n",
       "      <td>19</td>\n",
       "      <td>0</td>\n",
       "      <td>0</td>\n",
       "      <td>14.5000</td>\n",
       "      <td>0</td>\n",
       "      <td>1</td>\n",
       "      <td>1</td>\n",
       "    </tr>\n",
       "    <tr>\n",
       "      <th>838</th>\n",
       "      <td>32</td>\n",
       "      <td>0</td>\n",
       "      <td>0</td>\n",
       "      <td>56.4958</td>\n",
       "      <td>0</td>\n",
       "      <td>1</td>\n",
       "      <td>1</td>\n",
       "    </tr>\n",
       "    <tr>\n",
       "      <th>337</th>\n",
       "      <td>41</td>\n",
       "      <td>0</td>\n",
       "      <td>0</td>\n",
       "      <td>134.5000</td>\n",
       "      <td>0</td>\n",
       "      <td>0</td>\n",
       "      <td>0</td>\n",
       "    </tr>\n",
       "    <tr>\n",
       "      <th>523</th>\n",
       "      <td>44</td>\n",
       "      <td>0</td>\n",
       "      <td>1</td>\n",
       "      <td>57.9792</td>\n",
       "      <td>0</td>\n",
       "      <td>0</td>\n",
       "      <td>0</td>\n",
       "    </tr>\n",
       "    <tr>\n",
       "      <th>863</th>\n",
       "      <td>15</td>\n",
       "      <td>8</td>\n",
       "      <td>2</td>\n",
       "      <td>69.5500</td>\n",
       "      <td>0</td>\n",
       "      <td>1</td>\n",
       "      <td>0</td>\n",
       "    </tr>\n",
       "  </tbody>\n",
       "</table>\n",
       "<p>712 rows × 7 columns</p>\n",
       "</div>"
      ],
      "text/plain": [
       "     Age  SibSp  Parch      Fare  Pclass_2  Pclass_3  Sex_1\n",
       "733   23      0      0   13.0000         1         0      1\n",
       "857   51      0      0   26.5500         0         0      1\n",
       "81    29      0      0    9.5000         0         1      1\n",
       "319   40      1      1  134.5000         0         0      0\n",
       "720    6      0      1   33.0000         1         0      0\n",
       "..   ...    ...    ...       ...       ...       ...    ...\n",
       "575   19      0      0   14.5000         0         1      1\n",
       "838   32      0      0   56.4958         0         1      1\n",
       "337   41      0      0  134.5000         0         0      0\n",
       "523   44      0      1   57.9792         0         0      0\n",
       "863   15      8      2   69.5500         0         1      0\n",
       "\n",
       "[712 rows x 7 columns]"
      ]
     },
     "execution_count": 75,
     "metadata": {},
     "output_type": "execute_result"
    }
   ],
   "source": [
    "x_train"
   ]
  },
  {
   "cell_type": "code",
   "execution_count": 177,
   "metadata": {},
   "outputs": [
    {
     "data": {
      "text/plain": [
       "733    0\n",
       "857    1\n",
       "81     1\n",
       "319    1\n",
       "720    1\n",
       "      ..\n",
       "575    0\n",
       "838    1\n",
       "337    1\n",
       "523    1\n",
       "863    0\n",
       "Name: Survived, Length: 712, dtype: int64"
      ]
     },
     "execution_count": 177,
     "metadata": {},
     "output_type": "execute_result"
    }
   ],
   "source": [
    "y_train"
   ]
  },
  {
   "cell_type": "code",
   "execution_count": null,
   "metadata": {},
   "outputs": [],
   "source": []
  }
 ],
 "metadata": {
  "kernelspec": {
   "display_name": "Python 3",
   "language": "python",
   "name": "python3"
  },
  "language_info": {
   "codemirror_mode": {
    "name": "ipython",
    "version": 3
   },
   "file_extension": ".py",
   "mimetype": "text/x-python",
   "name": "python",
   "nbconvert_exporter": "python",
   "pygments_lexer": "ipython3",
   "version": "3.7.4"
  }
 },
 "nbformat": 4,
 "nbformat_minor": 2
}
